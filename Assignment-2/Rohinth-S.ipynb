{
  "cells": [
    {
      "cell_type": "markdown",
      "id": "ea8c0e45",
      "metadata": {
        "id": "ea8c0e45"
      },
      "source": [
        "# Assignment 2"
      ]
    },
    {
      "cell_type": "markdown",
      "id": "aee6d92e",
      "metadata": {
        "id": "aee6d92e"
      },
      "source": [
        "### Importing"
      ]
    },
    {
      "cell_type": "code",
      "execution_count": 52,
      "id": "674dec3f",
      "metadata": {
        "id": "674dec3f"
      },
      "outputs": [],
      "source": [
        "import numpy as np\n",
        "import pandas as pd\n",
        "import matplotlib.pyplot as plt\n",
        "import seaborn as sns\n",
        "import os"
      ]
    },
    {
      "cell_type": "markdown",
      "id": "720dcd71",
      "metadata": {
        "id": "720dcd71"
      },
      "source": [
        "### Load the dataset"
      ]
    },
    {
      "cell_type": "code",
      "execution_count": 81,
      "id": "eebef561",
      "metadata": {
        "id": "eebef561"
      },
      "outputs": [],
      "source": [
        "dataset_path = \"/content/Churn_Modelling.csv\"\n",
        "\n",
        "df=pd.read_csv(dataset_path)"
      ]
    },
    {
      "cell_type": "code",
      "execution_count": 54,
      "id": "18181ebc",
      "metadata": {
        "colab": {
          "base_uri": "https://localhost:8080/"
        },
        "id": "18181ebc",
        "outputId": "254c64a6-ef53-4eee-a2a1-6eed040d5f7b"
      },
      "outputs": [
        {
          "output_type": "stream",
          "name": "stdout",
          "text": [
            "<class 'pandas.core.frame.DataFrame'>\n",
            "RangeIndex: 10000 entries, 0 to 9999\n",
            "Data columns (total 14 columns):\n",
            " #   Column           Non-Null Count  Dtype  \n",
            "---  ------           --------------  -----  \n",
            " 0   RowNumber        10000 non-null  int64  \n",
            " 1   CustomerId       10000 non-null  int64  \n",
            " 2   Surname          10000 non-null  object \n",
            " 3   CreditScore      10000 non-null  int64  \n",
            " 4   Geography        10000 non-null  object \n",
            " 5   Gender           10000 non-null  object \n",
            " 6   Age              10000 non-null  int64  \n",
            " 7   Tenure           10000 non-null  int64  \n",
            " 8   Balance          10000 non-null  float64\n",
            " 9   NumOfProducts    10000 non-null  int64  \n",
            " 10  HasCrCard        10000 non-null  int64  \n",
            " 11  IsActiveMember   10000 non-null  int64  \n",
            " 12  EstimatedSalary  10000 non-null  float64\n",
            " 13  Exited           10000 non-null  int64  \n",
            "dtypes: float64(2), int64(9), object(3)\n",
            "memory usage: 1.1+ MB\n"
          ]
        }
      ],
      "source": [
        "df.info()"
      ]
    },
    {
      "cell_type": "markdown",
      "id": "262ef01d",
      "metadata": {
        "id": "262ef01d"
      },
      "source": [
        "## 1. UNIVARIATE ANALYSIS"
      ]
    },
    {
      "cell_type": "markdown",
      "id": "c1e2969a",
      "metadata": {
        "id": "c1e2969a"
      },
      "source": [
        "### Histogram "
      ]
    },
    {
      "cell_type": "code",
      "execution_count": 55,
      "id": "32f7e364",
      "metadata": {
        "scrolled": true,
        "colab": {
          "base_uri": "https://localhost:8080/",
          "height": 0
        },
        "id": "32f7e364",
        "outputId": "faf16ede-4139-4077-c382-8cf24d8a7763"
      },
      "outputs": [
        {
          "output_type": "execute_result",
          "data": {
            "text/plain": [
              "<seaborn.axisgrid.FacetGrid at 0x7fcabc12fe90>"
            ]
          },
          "metadata": {},
          "execution_count": 55
        },
        {
          "output_type": "display_data",
          "data": {
            "text/plain": [
              "<Figure size 360x360 with 1 Axes>"
            ],
            "image/png": "[encoded data removed]"
          },
          "metadata": {
            "needs_background": "light"
          }
        }
      ],
      "source": [
        "sns.displot(df[\"CreditScore\"], color='green')"
      ]
    },
    {
      "cell_type": "markdown",
      "id": "d4c82411",
      "metadata": {
        "id": "d4c82411"
      },
      "source": [
        "### In Histogram, we can do it vertically too, by just changing the axis"
      ]
    },
    {
      "cell_type": "code",
      "execution_count": 56,
      "id": "1a6f90dc",
      "metadata": {
        "scrolled": true,
        "colab": {
          "base_uri": "https://localhost:8080/",
          "height": 0
        },
        "id": "1a6f90dc",
        "outputId": "50ed8c71-0af9-4083-e625-a82107e1f457"
      },
      "outputs": [
        {
          "output_type": "execute_result",
          "data": {
            "text/plain": [
              "<matplotlib.axes._subplots.AxesSubplot at 0x7fcabb491ad0>"
            ]
          },
          "metadata": {},
          "execution_count": 56
        },
        {
          "output_type": "display_data",
          "data": {
            "text/plain": [
              "<Figure size 432x288 with 1 Axes>"
            ],
            "image/png": "[encoded data removed]"
          },
          "metadata": {
            "needs_background": "light"
          }
        }
      ],
      "source": [
        "sns.histplot(y=\"CreditScore\",data=df,color='red') "
      ]
    },
    {
      "cell_type": "markdown",
      "id": "819400ed",
      "metadata": {
        "id": "819400ed"
      },
      "source": [
        "### Now, we can also use Histogram for categorical variables "
      ]
    },
    {
      "cell_type": "code",
      "execution_count": 57,
      "id": "0cac610c",
      "metadata": {
        "colab": {
          "base_uri": "https://localhost:8080/",
          "height": 0
        },
        "id": "0cac610c",
        "outputId": "8c1600df-e593-4e28-887c-379bfe2b187e"
      },
      "outputs": [
        {
          "output_type": "execute_result",
          "data": {
            "text/plain": [
              "<matplotlib.axes._subplots.AxesSubplot at 0x7fcabb34f990>"
            ]
          },
          "metadata": {},
          "execution_count": 57
        },
        {
          "output_type": "display_data",
          "data": {
            "text/plain": [
              "<Figure size 432x288 with 1 Axes>"
            ],
            "image/png": "[encoded data removed]"
          },
          "metadata": {
            "needs_background": "light"
          }
        }
      ],
      "source": [
        "sns.histplot(x='CreditScore',data=df) "
      ]
    },
    {
      "cell_type": "markdown",
      "id": "3a6f9cc0",
      "metadata": {
        "id": "3a6f9cc0"
      },
      "source": [
        "### Distplot "
      ]
    },
    {
      "cell_type": "code",
      "execution_count": 58,
      "id": "269415c2",
      "metadata": {
        "colab": {
          "base_uri": "https://localhost:8080/",
          "height": 0
        },
        "id": "269415c2",
        "outputId": "bfaf34aa-7a87-4d16-fe95-3485d8a4631d"
      },
      "outputs": [
        {
          "output_type": "stream",
          "name": "stderr",
          "text": [
            "/usr/local/lib/python3.7/dist-packages/seaborn/distributions.py:2619: FutureWarning: `distplot` is a deprecated function and will be removed in a future version. Please adapt your code to use either `displot` (a figure-level function with similar flexibility) or `histplot` (an axes-level function for histograms).\n",
            "  warnings.warn(msg, FutureWarning)\n"
          ]
        },
        {
          "output_type": "execute_result",
          "data": {
            "text/plain": [
              "<matplotlib.axes._subplots.AxesSubplot at 0x7fcabb2bc9d0>"
            ]
          },
          "metadata": {},
          "execution_count": 58
        },
        {
          "output_type": "display_data",
          "data": {
            "text/plain": [
              "<Figure size 432x288 with 1 Axes>"
            ],
            "image/png": "[encoded data removed]"
          },
          "metadata": {
            "needs_background": "light"
          }
        }
      ],
      "source": [
        "sns.distplot(df[\"CreditScore\"],color='black') "
      ]
    },
    {
      "cell_type": "markdown",
      "id": "1183af9a",
      "metadata": {
        "id": "1183af9a"
      },
      "source": [
        "### This is visualising displot alone"
      ]
    },
    {
      "cell_type": "code",
      "execution_count": 59,
      "id": "1232005f",
      "metadata": {
        "colab": {
          "base_uri": "https://localhost:8080/",
          "height": 0
        },
        "id": "1232005f",
        "outputId": "c76c1ce0-904e-4073-d69a-7691c399cded"
      },
      "outputs": [
        {
          "output_type": "stream",
          "name": "stderr",
          "text": [
            "/usr/local/lib/python3.7/dist-packages/seaborn/distributions.py:2619: FutureWarning: `distplot` is a deprecated function and will be removed in a future version. Please adapt your code to use either `displot` (a figure-level function with similar flexibility) or `kdeplot` (an axes-level function for kernel density plots).\n",
            "  warnings.warn(msg, FutureWarning)\n"
          ]
        },
        {
          "output_type": "execute_result",
          "data": {
            "text/plain": [
              "<matplotlib.axes._subplots.AxesSubplot at 0x7fcabb187890>"
            ]
          },
          "metadata": {},
          "execution_count": 59
        },
        {
          "output_type": "display_data",
          "data": {
            "text/plain": [
              "<Figure size 432x288 with 1 Axes>"
            ],
            "image/png": "[encoded data removed]"
          },
          "metadata": {
            "needs_background": "light"
          }
        }
      ],
      "source": [
        "sns.distplot(df[\"CreditScore\"],hist=False,color='magenta') "
      ]
    },
    {
      "cell_type": "markdown",
      "id": "40629d90",
      "metadata": {
        "id": "40629d90"
      },
      "source": [
        "### Boxplot "
      ]
    },
    {
      "cell_type": "code",
      "execution_count": 60,
      "id": "b1255df5",
      "metadata": {
        "colab": {
          "base_uri": "https://localhost:8080/",
          "height": 0
        },
        "id": "b1255df5",
        "outputId": "b01925f5-7ad6-4076-b52b-dbe772f885b1"
      },
      "outputs": [
        {
          "output_type": "stream",
          "name": "stderr",
          "text": [
            "/usr/local/lib/python3.7/dist-packages/seaborn/_decorators.py:43: FutureWarning: Pass the following variable as a keyword arg: x. From version 0.12, the only valid positional argument will be `data`, and passing other arguments without an explicit keyword will result in an error or misinterpretation.\n",
            "  FutureWarning\n"
          ]
        },
        {
          "output_type": "execute_result",
          "data": {
            "text/plain": [
              "<matplotlib.axes._subplots.AxesSubplot at 0x7fcabb1302d0>"
            ]
          },
          "metadata": {},
          "execution_count": 60
        },
        {
          "output_type": "display_data",
          "data": {
            "text/plain": [
              "<Figure size 432x288 with 1 Axes>"
            ],
            "image/png": "[encoded data removed]"
          },
          "metadata": {
            "needs_background": "light"
          }
        }
      ],
      "source": [
        "sns.boxplot(df[\"CreditScore\"],color='lightgreen')"
      ]
    },
    {
      "cell_type": "markdown",
      "id": "2e1cf5dd",
      "metadata": {
        "id": "2e1cf5dd"
      },
      "source": [
        "### Countplot "
      ]
    },
    {
      "cell_type": "code",
      "execution_count": 61,
      "id": "32cef38d",
      "metadata": {
        "scrolled": true,
        "colab": {
          "base_uri": "https://localhost:8080/",
          "height": 0
        },
        "id": "32cef38d",
        "outputId": "6f4eab01-0ec4-4429-b696-45b1fb6ea800"
      },
      "outputs": [
        {
          "output_type": "stream",
          "name": "stderr",
          "text": [
            "/usr/local/lib/python3.7/dist-packages/seaborn/_decorators.py:43: FutureWarning: Pass the following variable as a keyword arg: x. From version 0.12, the only valid positional argument will be `data`, and passing other arguments without an explicit keyword will result in an error or misinterpretation.\n",
            "  FutureWarning\n"
          ]
        },
        {
          "output_type": "execute_result",
          "data": {
            "text/plain": [
              "<matplotlib.axes._subplots.AxesSubplot at 0x7fcabb0abe90>"
            ]
          },
          "metadata": {},
          "execution_count": 61
        },
        {
          "output_type": "display_data",
          "data": {
            "text/plain": [
              "<Figure size 432x288 with 1 Axes>"
            ],
            "image/png": "[encoded data removed]"
          },
          "metadata": {
            "needs_background": "light"
          }
        }
      ],
      "source": [
        "sns.countplot(df['Age'])"
      ]
    },
    {
      "cell_type": "markdown",
      "id": "99f298dd",
      "metadata": {
        "id": "99f298dd"
      },
      "source": [
        "## 2. BIVARIATE ANALYSIS"
      ]
    },
    {
      "cell_type": "markdown",
      "id": "cf90151f",
      "metadata": {
        "id": "cf90151f"
      },
      "source": [
        "### Barplot"
      ]
    },
    {
      "cell_type": "code",
      "execution_count": 62,
      "id": "841b0275",
      "metadata": {
        "colab": {
          "base_uri": "https://localhost:8080/",
          "height": 0
        },
        "id": "841b0275",
        "outputId": "77f49e58-80d7-4c7d-f16e-761b8b3c89aa"
      },
      "outputs": [
        {
          "output_type": "stream",
          "name": "stderr",
          "text": [
            "/usr/local/lib/python3.7/dist-packages/seaborn/_decorators.py:43: FutureWarning: Pass the following variables as keyword args: x, y. From version 0.12, the only valid positional argument will be `data`, and passing other arguments without an explicit keyword will result in an error or misinterpretation.\n",
            "  FutureWarning\n"
          ]
        },
        {
          "output_type": "execute_result",
          "data": {
            "text/plain": [
              "<matplotlib.axes._subplots.AxesSubplot at 0x7fcabad7d850>"
            ]
          },
          "metadata": {},
          "execution_count": 62
        },
        {
          "output_type": "display_data",
          "data": {
            "text/plain": [
              "<Figure size 432x288 with 1 Axes>"
            ],
            "image/png": "[encoded data removed]"
          },
          "metadata": {
            "needs_background": "light"
          }
        }
      ],
      "source": [
        "sns.barplot(df[\"CreditScore\"], df[\"Age\"])"
      ]
    },
    {
      "cell_type": "markdown",
      "id": "46f9962e",
      "metadata": {
        "id": "46f9962e"
      },
      "source": [
        "### Linearplot"
      ]
    },
    {
      "cell_type": "code",
      "execution_count": 63,
      "id": "75c9afb0",
      "metadata": {
        "colab": {
          "base_uri": "https://localhost:8080/",
          "height": 0
        },
        "id": "75c9afb0",
        "outputId": "a1ef6f5a-0ce4-4adc-8fd7-ac6ead99a2e5"
      },
      "outputs": [
        {
          "output_type": "stream",
          "name": "stderr",
          "text": [
            "/usr/local/lib/python3.7/dist-packages/seaborn/_decorators.py:43: FutureWarning: Pass the following variables as keyword args: x, y. From version 0.12, the only valid positional argument will be `data`, and passing other arguments without an explicit keyword will result in an error or misinterpretation.\n",
            "  FutureWarning\n"
          ]
        },
        {
          "output_type": "execute_result",
          "data": {
            "text/plain": [
              "<matplotlib.axes._subplots.AxesSubplot at 0x7fcab9db6250>"
            ]
          },
          "metadata": {},
          "execution_count": 63
        },
        {
          "output_type": "display_data",
          "data": {
            "text/plain": [
              "<Figure size 432x288 with 1 Axes>"
            ],
            "image/png": "[encoded data removed]"
          },
          "metadata": {
            "needs_background": "light"
          }
        }
      ],
      "source": [
        "sns.lineplot(df[\"Age\"],df[\"CreditScore\"], color='darkorange')"
      ]
    },
    {
      "cell_type": "markdown",
      "id": "86cc6edf",
      "metadata": {
        "id": "86cc6edf"
      },
      "source": [
        "### Scatterplot"
      ]
    },
    {
      "cell_type": "code",
      "execution_count": 64,
      "id": "1a886688",
      "metadata": {
        "colab": {
          "base_uri": "https://localhost:8080/",
          "height": 0
        },
        "id": "1a886688",
        "outputId": "09f17de7-2ec1-4c1b-ccb7-7ff13d618449"
      },
      "outputs": [
        {
          "output_type": "execute_result",
          "data": {
            "text/plain": [
              "<matplotlib.axes._subplots.AxesSubplot at 0x7fcab9cc1350>"
            ]
          },
          "metadata": {},
          "execution_count": 64
        },
        {
          "output_type": "display_data",
          "data": {
            "text/plain": [
              "<Figure size 432x288 with 1 Axes>"
            ],
            "image/png": "[encoded data removed]"
          },
          "metadata": {
            "needs_background": "light"
          }
        }
      ],
      "source": [
        "sns.scatterplot(x=df[\"CreditScore\"],y=df[\"Age\"],color='red')"
      ]
    },
    {
      "cell_type": "markdown",
      "id": "b4d4e637",
      "metadata": {
        "id": "b4d4e637"
      },
      "source": [
        "### Pointplot "
      ]
    },
    {
      "cell_type": "code",
      "execution_count": 65,
      "id": "89de4a94",
      "metadata": {
        "colab": {
          "base_uri": "https://localhost:8080/",
          "height": 0
        },
        "id": "89de4a94",
        "outputId": "903c9853-6106-4799-f929-c6b6a4f32e66"
      },
      "outputs": [
        {
          "output_type": "execute_result",
          "data": {
            "text/plain": [
              "<matplotlib.axes._subplots.AxesSubplot at 0x7fcab9c1cc90>"
            ]
          },
          "metadata": {},
          "execution_count": 65
        },
        {
          "output_type": "display_data",
          "data": {
            "text/plain": [
              "<Figure size 432x288 with 1 Axes>"
            ],
            "image/png": "[encoded data removed]"
          },
          "metadata": {
            "needs_background": "light"
          }
        }
      ],
      "source": [
        "sns.pointplot(x='CreditScore',y='Tenure',data=df,color='purple') "
      ]
    },
    {
      "cell_type": "markdown",
      "id": "1bbf83df",
      "metadata": {
        "id": "1bbf83df"
      },
      "source": [
        "### Regplot "
      ]
    },
    {
      "cell_type": "code",
      "execution_count": 66,
      "id": "7b98e03b",
      "metadata": {
        "colab": {
          "base_uri": "https://localhost:8080/",
          "height": 0
        },
        "id": "7b98e03b",
        "outputId": "f746c08e-b396-4a35-abf5-353e5a2a242a"
      },
      "outputs": [
        {
          "output_type": "stream",
          "name": "stderr",
          "text": [
            "/usr/local/lib/python3.7/dist-packages/seaborn/_decorators.py:43: FutureWarning: Pass the following variables as keyword args: x, y. From version 0.12, the only valid positional argument will be `data`, and passing other arguments without an explicit keyword will result in an error or misinterpretation.\n",
            "  FutureWarning\n"
          ]
        },
        {
          "output_type": "execute_result",
          "data": {
            "text/plain": [
              "<matplotlib.axes._subplots.AxesSubplot at 0x7fcab9255b50>"
            ]
          },
          "metadata": {},
          "execution_count": 66
        },
        {
          "output_type": "display_data",
          "data": {
            "text/plain": [
              "<Figure size 432x288 with 1 Axes>"
            ],
            "image/png": "[encoded data removed]"
          },
          "metadata": {
            "needs_background": "light"
          }
        }
      ],
      "source": [
        "sns.regplot(df['CreditScore'],df['Tenure'],color='blue') "
      ]
    },
    {
      "cell_type": "markdown",
      "id": "922efd37",
      "metadata": {
        "id": "922efd37"
      },
      "source": [
        "## 3. MULTI - VARIATE ANALYSIS"
      ]
    },
    {
      "cell_type": "markdown",
      "id": "29983f0f",
      "metadata": {
        "id": "29983f0f"
      },
      "source": [
        "### Pairplot"
      ]
    },
    {
      "cell_type": "code",
      "execution_count": 67,
      "id": "fd842e3e",
      "metadata": {
        "colab": {
          "base_uri": "https://localhost:8080/",
          "height": 0
        },
        "id": "fd842e3e",
        "outputId": "73462267-c11a-42fa-b06a-9717c3e14530"
      },
      "outputs": [
        {
          "output_type": "execute_result",
          "data": {
            "text/plain": [
              "<seaborn.axisgrid.PairGrid at 0x7fcab91ce210>"
            ]
          },
          "metadata": {},
          "execution_count": 67
        },
        {
          "output_type": "display_data",
          "data": {
            "text/plain": [
              "<Figure size 360x360 with 6 Axes>"
            ],
            "image/png": "[encoded data removed]"
          },
          "metadata": {
            "needs_background": "light"
          }
        }
      ],
      "source": [
        "sns.pairplot(data=df[[\"CreditScore\", \"Age\"]])"
      ]
    },
    {
      "cell_type": "markdown",
      "id": "42af66c5",
      "metadata": {
        "id": "42af66c5"
      },
      "source": [
        "## 4. Perform descriptive statistics on the dataset"
      ]
    },
    {
      "cell_type": "code",
      "execution_count": 68,
      "id": "73f89e75",
      "metadata": {
        "colab": {
          "base_uri": "https://localhost:8080/",
          "height": 0
        },
        "id": "73f89e75",
        "outputId": "240e9318-1de4-41a3-d331-e64f84f47280"
      },
      "outputs": [
        {
          "output_type": "execute_result",
          "data": {
            "text/plain": [
              "         RowNumber    CustomerId   CreditScore           Age        Tenure  \\\n",
              "count  10000.00000  1.000000e+04  10000.000000  10000.000000  10000.000000   \n",
              "mean    5000.50000  1.569094e+07    650.528800     38.921800      5.012800   \n",
              "std     2886.89568  7.193619e+04     96.653299     10.487806      2.892174   \n",
              "min        1.00000  1.556570e+07    350.000000     18.000000      0.000000   \n",
              "25%     2500.75000  1.562853e+07    584.000000     32.000000      3.000000   \n",
              "50%     5000.50000  1.569074e+07    652.000000     37.000000      5.000000   \n",
              "75%     7500.25000  1.575323e+07    718.000000     44.000000      7.000000   \n",
              "max    10000.00000  1.581569e+07    850.000000     92.000000     10.000000   \n",
              "\n",
              "             Balance  NumOfProducts    HasCrCard  IsActiveMember  \\\n",
              "count   10000.000000   10000.000000  10000.00000    10000.000000   \n",
              "mean    76485.889288       1.530200      0.70550        0.515100   \n",
              "std     62397.405202       0.581654      0.45584        0.499797   \n",
              "min         0.000000       1.000000      0.00000        0.000000   \n",
              "25%         0.000000       1.000000      0.00000        0.000000   \n",
              "50%     97198.540000       1.000000      1.00000        1.000000   \n",
              "75%    127644.240000       2.000000      1.00000        1.000000   \n",
              "max    250898.090000       4.000000      1.00000        1.000000   \n",
              "\n",
              "       EstimatedSalary        Exited  \n",
              "count     10000.000000  10000.000000  \n",
              "mean     100090.239881      0.203700  \n",
              "std       57510.492818      0.402769  \n",
              "min          11.580000      0.000000  \n",
              "25%       51002.110000      0.000000  \n",
              "50%      100193.915000      0.000000  \n",
              "75%      149388.247500      0.000000  \n",
              "max      199992.480000      1.000000  "
            ],
            "text/html": [
              "\n",
              "  <div id=\"df-a4c87888-60c3-4ac7-ac02-7843e6064563\">\n",
              "    <div class=\"colab-df-container\">\n",
              "      <div>\n",
              "<style scoped>\n",
              "    .dataframe tbody tr th:only-of-type {\n",
              "        vertical-align: middle;\n",
              "    }\n",
              "\n",
              "    .dataframe tbody tr th {\n",
              "        vertical-align: top;\n",
              "    }\n",
              "\n",
              "    .dataframe thead th {\n",
              "        text-align: right;\n",
              "    }\n",
              "</style>\n",
              "<table border=\"1\" class=\"dataframe\">\n",
              "  <thead>\n",
              "    <tr style=\"text-align: right;\">\n",
              "      <th></th>\n",
              "      <th>RowNumber</th>\n",
              "      <th>CustomerId</th>\n",
              "      <th>CreditScore</th>\n",
              "      <th>Age</th>\n",
              "      <th>Tenure</th>\n",
              "      <th>Balance</th>\n",
              "      <th>NumOfProducts</th>\n",
              "      <th>HasCrCard</th>\n",
              "      <th>IsActiveMember</th>\n",
              "      <th>EstimatedSalary</th>\n",
              "      <th>Exited</th>\n",
              "    </tr>\n",
              "  </thead>\n",
              "  <tbody>\n",
              "    <tr>\n",
              "      <th>count</th>\n",
              "      <td>10000.00000</td>\n",
              "      <td>1.000000e+04</td>\n",
              "      <td>10000.000000</td>\n",
              "      <td>10000.000000</td>\n",
              "      <td>10000.000000</td>\n",
              "      <td>10000.000000</td>\n",
              "      <td>10000.000000</td>\n",
              "      <td>10000.00000</td>\n",
              "      <td>10000.000000</td>\n",
              "      <td>10000.000000</td>\n",
              "      <td>10000.000000</td>\n",
              "    </tr>\n",
              "    <tr>\n",
              "      <th>mean</th>\n",
              "      <td>5000.50000</td>\n",
              "      <td>1.569094e+07</td>\n",
              "      <td>650.528800</td>\n",
              "      <td>38.921800</td>\n",
              "      <td>5.012800</td>\n",
              "      <td>76485.889288</td>\n",
              "      <td>1.530200</td>\n",
              "      <td>0.70550</td>\n",
              "      <td>0.515100</td>\n",
              "      <td>100090.239881</td>\n",
              "      <td>0.203700</td>\n",
              "    </tr>\n",
              "    <tr>\n",
              "      <th>std</th>\n",
              "      <td>2886.89568</td>\n",
              "      <td>7.193619e+04</td>\n",
              "      <td>96.653299</td>\n",
              "      <td>10.487806</td>\n",
              "      <td>2.892174</td>\n",
              "      <td>62397.405202</td>\n",
              "      <td>0.581654</td>\n",
              "      <td>0.45584</td>\n",
              "      <td>0.499797</td>\n",
              "      <td>57510.492818</td>\n",
              "      <td>0.402769</td>\n",
              "    </tr>\n",
              "    <tr>\n",
              "      <th>min</th>\n",
              "      <td>1.00000</td>\n",
              "      <td>1.556570e+07</td>\n",
              "      <td>350.000000</td>\n",
              "      <td>18.000000</td>\n",
              "      <td>0.000000</td>\n",
              "      <td>0.000000</td>\n",
              "      <td>1.000000</td>\n",
              "      <td>0.00000</td>\n",
              "      <td>0.000000</td>\n",
              "      <td>11.580000</td>\n",
              "      <td>0.000000</td>\n",
              "    </tr>\n",
              "    <tr>\n",
              "      <th>25%</th>\n",
              "      <td>2500.75000</td>\n",
              "      <td>1.562853e+07</td>\n",
              "      <td>584.000000</td>\n",
              "      <td>32.000000</td>\n",
              "      <td>3.000000</td>\n",
              "      <td>0.000000</td>\n",
              "      <td>1.000000</td>\n",
              "      <td>0.00000</td>\n",
              "      <td>0.000000</td>\n",
              "      <td>51002.110000</td>\n",
              "      <td>0.000000</td>\n",
              "    </tr>\n",
              "    <tr>\n",
              "      <th>50%</th>\n",
              "      <td>5000.50000</td>\n",
              "      <td>1.569074e+07</td>\n",
              "      <td>652.000000</td>\n",
              "      <td>37.000000</td>\n",
              "      <td>5.000000</td>\n",
              "      <td>97198.540000</td>\n",
              "      <td>1.000000</td>\n",
              "      <td>1.00000</td>\n",
              "      <td>1.000000</td>\n",
              "      <td>100193.915000</td>\n",
              "      <td>0.000000</td>\n",
              "    </tr>\n",
              "    <tr>\n",
              "      <th>75%</th>\n",
              "      <td>7500.25000</td>\n",
              "      <td>1.575323e+07</td>\n",
              "      <td>718.000000</td>\n",
              "      <td>44.000000</td>\n",
              "      <td>7.000000</td>\n",
              "      <td>127644.240000</td>\n",
              "      <td>2.000000</td>\n",
              "      <td>1.00000</td>\n",
              "      <td>1.000000</td>\n",
              "      <td>149388.247500</td>\n",
              "      <td>0.000000</td>\n",
              "    </tr>\n",
              "    <tr>\n",
              "      <th>max</th>\n",
              "      <td>10000.00000</td>\n",
              "      <td>1.581569e+07</td>\n",
              "      <td>850.000000</td>\n",
              "      <td>92.000000</td>\n",
              "      <td>10.000000</td>\n",
              "      <td>250898.090000</td>\n",
              "      <td>4.000000</td>\n",
              "      <td>1.00000</td>\n",
              "      <td>1.000000</td>\n",
              "      <td>199992.480000</td>\n",
              "      <td>1.000000</td>\n",
              "    </tr>\n",
              "  </tbody>\n",
              "</table>\n",
              "</div>\n",
              "      <button class=\"colab-df-convert\" onclick=\"convertToInteractive('df-a4c87888-60c3-4ac7-ac02-7843e6064563')\"\n",
              "              title=\"Convert this dataframe to an interactive table.\"\n",
              "              style=\"display:none;\">\n",
              "        \n",
              "  <svg xmlns=\"http://www.w3.org/2000/svg\" height=\"24px\"viewBox=\"0 0 24 24\"\n",
              "       width=\"24px\">\n",
              "    <path d=\"M0 0h24v24H0V0z\" fill=\"none\"/>\n",
              "    <path d=\"M18.56 5.44l.94 2.06.94-2.06 2.06-.94-2.06-.94-.94-2.06-.94 2.06-2.06.94zm-11 1L8.5 8.5l.94-2.06 2.06-.94-2.06-.94L8.5 2.5l-.94 2.06-2.06.94zm10 10l.94 2.06.94-2.06 2.06-.94-2.06-.94-.94-2.06-.94 2.06-2.06.94z\"/><path d=\"M17.41 7.96l-1.37-1.37c-.4-.4-.92-.59-1.43-.59-.52 0-1.04.2-1.43.59L10.3 9.45l-7.72 7.72c-.78.78-.78 2.05 0 2.83L4 21.41c.39.39.9.59 1.41.59.51 0 1.02-.2 1.41-.59l7.78-7.78 2.81-2.81c.8-.78.8-2.07 0-2.86zM5.41 20L4 18.59l7.72-7.72 1.47 1.35L5.41 20z\"/>\n",
              "  </svg>\n",
              "      </button>\n",
              "      \n",
              "  <style>\n",
              "    .colab-df-container {\n",
              "      display:flex;\n",
              "      flex-wrap:wrap;\n",
              "      gap: 12px;\n",
              "    }\n",
              "\n",
              "    .colab-df-convert {\n",
              "      background-color: #E8F0FE;\n",
              "      border: none;\n",
              "      border-radius: 50%;\n",
              "      cursor: pointer;\n",
              "      display: none;\n",
              "      fill: #1967D2;\n",
              "      height: 32px;\n",
              "      padding: 0 0 0 0;\n",
              "      width: 32px;\n",
              "    }\n",
              "\n",
              "    .colab-df-convert:hover {\n",
              "      background-color: #E2EBFA;\n",
              "      box-shadow: 0px 1px 2px rgba(60, 64, 67, 0.3), 0px 1px 3px 1px rgba(60, 64, 67, 0.15);\n",
              "      fill: #174EA6;\n",
              "    }\n",
              "\n",
              "    [theme=dark] .colab-df-convert {\n",
              "      background-color: #3B4455;\n",
              "      fill: #D2E3FC;\n",
              "    }\n",
              "\n",
              "    [theme=dark] .colab-df-convert:hover {\n",
              "      background-color: #434B5C;\n",
              "      box-shadow: 0px 1px 3px 1px rgba(0, 0, 0, 0.15);\n",
              "      filter: drop-shadow(0px 1px 2px rgba(0, 0, 0, 0.3));\n",
              "      fill: #FFFFFF;\n",
              "    }\n",
              "  </style>\n",
              "\n",
              "      <script>\n",
              "        const buttonEl =\n",
              "          document.querySelector('#df-a4c87888-60c3-4ac7-ac02-7843e6064563 button.colab-df-convert');\n",
              "        buttonEl.style.display =\n",
              "          google.colab.kernel.accessAllowed ? 'block' : 'none';\n",
              "\n",
              "        async function convertToInteractive(key) {\n",
              "          const element = document.querySelector('#df-a4c87888-60c3-4ac7-ac02-7843e6064563');\n",
              "          const dataTable =\n",
              "            await google.colab.kernel.invokeFunction('convertToInteractive',\n",
              "                                                     [key], {});\n",
              "          if (!dataTable) return;\n",
              "\n",
              "          const docLinkHtml = 'Like what you see? Visit the ' +\n",
              "            '<a target=\"_blank\" href=https://colab.research.google.com/notebooks/data_table.ipynb>data table notebook</a>'\n",
              "            + ' to learn more about interactive tables.';\n",
              "          element.innerHTML = '';\n",
              "          dataTable['output_type'] = 'display_data';\n",
              "          await google.colab.output.renderOutput(dataTable, element);\n",
              "          const docLink = document.createElement('div');\n",
              "          docLink.innerHTML = docLinkHtml;\n",
              "          element.appendChild(docLink);\n",
              "        }\n",
              "      </script>\n",
              "    </div>\n",
              "  </div>\n",
              "  "
            ]
          },
          "metadata": {},
          "execution_count": 68
        }
      ],
      "source": [
        "df.describe()"
      ]
    },
    {
      "cell_type": "markdown",
      "id": "a858d8f3",
      "metadata": {
        "id": "a858d8f3"
      },
      "source": [
        "## 5. Handle the Missing values."
      ]
    },
    {
      "cell_type": "code",
      "execution_count": 69,
      "id": "3d7443ea",
      "metadata": {
        "colab": {
          "base_uri": "https://localhost:8080/"
        },
        "id": "3d7443ea",
        "outputId": "258946c2-e7e1-4583-e6d9-3bd9a43970b5"
      },
      "outputs": [
        {
          "output_type": "execute_result",
          "data": {
            "text/plain": [
              "RowNumber          False\n",
              "CustomerId         False\n",
              "Surname            False\n",
              "CreditScore        False\n",
              "Geography          False\n",
              "Gender             False\n",
              "Age                False\n",
              "Tenure             False\n",
              "Balance            False\n",
              "NumOfProducts      False\n",
              "HasCrCard          False\n",
              "IsActiveMember     False\n",
              "EstimatedSalary    False\n",
              "Exited             False\n",
              "dtype: bool"
            ]
          },
          "metadata": {},
          "execution_count": 69
        }
      ],
      "source": [
        "df.isnull().any()"
      ]
    },
    {
      "cell_type": "markdown",
      "id": "3a739f5d",
      "metadata": {
        "id": "3a739f5d"
      },
      "source": [
        "## 6. Find the outliers and replace the outliers"
      ]
    },
    {
      "cell_type": "code",
      "execution_count": 82,
      "id": "3c1eeb01",
      "metadata": {
        "id": "3c1eeb01"
      },
      "outputs": [],
      "source": [
        "q2 = df.CreditScore.quantile(0.25)\n",
        "q3 = df.CreditScore.quantile(0.75)\n",
        "IQR = q3 - q2\n",
        "upper_limit = q3+1.5*IQR\n",
        "lower_limit = q2-1.5*IQR"
      ]
    },
    {
      "cell_type": "code",
      "execution_count": 83,
      "id": "41811423",
      "metadata": {
        "id": "41811423"
      },
      "outputs": [],
      "source": [
        "df[\"CreditScore\"] = np.where(df[\"CreditScore\"]<lower_limit,6.52,df[\"CreditScore\"])"
      ]
    },
    {
      "cell_type": "code",
      "execution_count": 84,
      "id": "33979b0c",
      "metadata": {
        "colab": {
          "base_uri": "https://localhost:8080/",
          "height": 296
        },
        "id": "33979b0c",
        "outputId": "59f6d682-ee6f-43a3-ffb7-f7440d10f2c2"
      },
      "outputs": [
        {
          "output_type": "execute_result",
          "data": {
            "text/plain": [
              "<matplotlib.axes._subplots.AxesSubplot at 0x7fcab8c7c990>"
            ]
          },
          "metadata": {},
          "execution_count": 84
        },
        {
          "output_type": "display_data",
          "data": {
            "text/plain": [
              "<Figure size 432x288 with 1 Axes>"
            ],
            "image/png": "[encoded data removed]"
          },
          "metadata": {
            "needs_background": "light"
          }
        }
      ],
      "source": [
        "sns.violinplot(x=df[\"CreditScore\"])"
      ]
    },
    {
      "cell_type": "markdown",
      "id": "0fd48898",
      "metadata": {
        "id": "0fd48898"
      },
      "source": [
        "## 7. Check for Categorical columns and perform encoding."
      ]
    },
    {
      "cell_type": "code",
      "execution_count": 76,
      "id": "b4fae74f",
      "metadata": {
        "colab": {
          "base_uri": "https://localhost:8080/",
          "height": 206
        },
        "id": "b4fae74f",
        "outputId": "cda879f2-3996-465f-b3f8-bbafbcc14b9e"
      },
      "outputs": [
        {
          "output_type": "execute_result",
          "data": {
            "text/plain": [
              "   RowNumber  CustomerId   Surname  CreditScore Geography  Gender  Age  \\\n",
              "0          1    15634602  Hargrave        619.0    France  Female   42   \n",
              "1          2    15647311      Hill        608.0     Spain  Female   41   \n",
              "2          3    15619304      Onio        502.0    France  Female   42   \n",
              "3          4    15701354      Boni        699.0    France  Female   39   \n",
              "4          5    15737888  Mitchell        850.0     Spain  Female   43   \n",
              "\n",
              "   Tenure    Balance  NumOfProducts  HasCrCard  IsActiveMember  \\\n",
              "0       2       0.00              1          1               1   \n",
              "1       1   83807.86              1          0               1   \n",
              "2       8  159660.80              3          1               0   \n",
              "3       1       0.00              2          0               0   \n",
              "4       2  125510.82              1          1               1   \n",
              "\n",
              "   EstimatedSalary  Exited  \n",
              "0        101348.88       1  \n",
              "1        112542.58       0  \n",
              "2        113931.57       1  \n",
              "3         93826.63       0  \n",
              "4         79084.10       0  "
            ],
            "text/html": [
              "\n",
              "  <div id=\"df-98b0b46a-0493-49a5-add2-2af4dc367ec1\">\n",
              "    <div class=\"colab-df-container\">\n",
              "      <div>\n",
              "<style scoped>\n",
              "    .dataframe tbody tr th:only-of-type {\n",
              "        vertical-align: middle;\n",
              "    }\n",
              "\n",
              "    .dataframe tbody tr th {\n",
              "        vertical-align: top;\n",
              "    }\n",
              "\n",
              "    .dataframe thead th {\n",
              "        text-align: right;\n",
              "    }\n",
              "</style>\n",
              "<table border=\"1\" class=\"dataframe\">\n",
              "  <thead>\n",
              "    <tr style=\"text-align: right;\">\n",
              "      <th></th>\n",
              "      <th>RowNumber</th>\n",
              "      <th>CustomerId</th>\n",
              "      <th>Surname</th>\n",
              "      <th>CreditScore</th>\n",
              "      <th>Geography</th>\n",
              "      <th>Gender</th>\n",
              "      <th>Age</th>\n",
              "      <th>Tenure</th>\n",
              "      <th>Balance</th>\n",
              "      <th>NumOfProducts</th>\n",
              "      <th>HasCrCard</th>\n",
              "      <th>IsActiveMember</th>\n",
              "      <th>EstimatedSalary</th>\n",
              "      <th>Exited</th>\n",
              "    </tr>\n",
              "  </thead>\n",
              "  <tbody>\n",
              "    <tr>\n",
              "      <th>0</th>\n",
              "      <td>1</td>\n",
              "      <td>15634602</td>\n",
              "      <td>Hargrave</td>\n",
              "      <td>619.0</td>\n",
              "      <td>France</td>\n",
              "      <td>Female</td>\n",
              "      <td>42</td>\n",
              "      <td>2</td>\n",
              "      <td>0.00</td>\n",
              "      <td>1</td>\n",
              "      <td>1</td>\n",
              "      <td>1</td>\n",
              "      <td>101348.88</td>\n",
              "      <td>1</td>\n",
              "    </tr>\n",
              "    <tr>\n",
              "      <th>1</th>\n",
              "      <td>2</td>\n",
              "      <td>15647311</td>\n",
              "      <td>Hill</td>\n",
              "      <td>608.0</td>\n",
              "      <td>Spain</td>\n",
              "      <td>Female</td>\n",
              "      <td>41</td>\n",
              "      <td>1</td>\n",
              "      <td>83807.86</td>\n",
              "      <td>1</td>\n",
              "      <td>0</td>\n",
              "      <td>1</td>\n",
              "      <td>112542.58</td>\n",
              "      <td>0</td>\n",
              "    </tr>\n",
              "    <tr>\n",
              "      <th>2</th>\n",
              "      <td>3</td>\n",
              "      <td>15619304</td>\n",
              "      <td>Onio</td>\n",
              "      <td>502.0</td>\n",
              "      <td>France</td>\n",
              "      <td>Female</td>\n",
              "      <td>42</td>\n",
              "      <td>8</td>\n",
              "      <td>159660.80</td>\n",
              "      <td>3</td>\n",
              "      <td>1</td>\n",
              "      <td>0</td>\n",
              "      <td>113931.57</td>\n",
              "      <td>1</td>\n",
              "    </tr>\n",
              "    <tr>\n",
              "      <th>3</th>\n",
              "      <td>4</td>\n",
              "      <td>15701354</td>\n",
              "      <td>Boni</td>\n",
              "      <td>699.0</td>\n",
              "      <td>France</td>\n",
              "      <td>Female</td>\n",
              "      <td>39</td>\n",
              "      <td>1</td>\n",
              "      <td>0.00</td>\n",
              "      <td>2</td>\n",
              "      <td>0</td>\n",
              "      <td>0</td>\n",
              "      <td>93826.63</td>\n",
              "      <td>0</td>\n",
              "    </tr>\n",
              "    <tr>\n",
              "      <th>4</th>\n",
              "      <td>5</td>\n",
              "      <td>15737888</td>\n",
              "      <td>Mitchell</td>\n",
              "      <td>850.0</td>\n",
              "      <td>Spain</td>\n",
              "      <td>Female</td>\n",
              "      <td>43</td>\n",
              "      <td>2</td>\n",
              "      <td>125510.82</td>\n",
              "      <td>1</td>\n",
              "      <td>1</td>\n",
              "      <td>1</td>\n",
              "      <td>79084.10</td>\n",
              "      <td>0</td>\n",
              "    </tr>\n",
              "  </tbody>\n",
              "</table>\n",
              "</div>\n",
              "      <button class=\"colab-df-convert\" onclick=\"convertToInteractive('df-98b0b46a-0493-49a5-add2-2af4dc367ec1')\"\n",
              "              title=\"Convert this dataframe to an interactive table.\"\n",
              "              style=\"display:none;\">\n",
              "        \n",
              "  <svg xmlns=\"http://www.w3.org/2000/svg\" height=\"24px\"viewBox=\"0 0 24 24\"\n",
              "       width=\"24px\">\n",
              "    <path d=\"M0 0h24v24H0V0z\" fill=\"none\"/>\n",
              "    <path d=\"M18.56 5.44l.94 2.06.94-2.06 2.06-.94-2.06-.94-.94-2.06-.94 2.06-2.06.94zm-11 1L8.5 8.5l.94-2.06 2.06-.94-2.06-.94L8.5 2.5l-.94 2.06-2.06.94zm10 10l.94 2.06.94-2.06 2.06-.94-2.06-.94-.94-2.06-.94 2.06-2.06.94z\"/><path d=\"M17.41 7.96l-1.37-1.37c-.4-.4-.92-.59-1.43-.59-.52 0-1.04.2-1.43.59L10.3 9.45l-7.72 7.72c-.78.78-.78 2.05 0 2.83L4 21.41c.39.39.9.59 1.41.59.51 0 1.02-.2 1.41-.59l7.78-7.78 2.81-2.81c.8-.78.8-2.07 0-2.86zM5.41 20L4 18.59l7.72-7.72 1.47 1.35L5.41 20z\"/>\n",
              "  </svg>\n",
              "      </button>\n",
              "      \n",
              "  <style>\n",
              "    .colab-df-container {\n",
              "      display:flex;\n",
              "      flex-wrap:wrap;\n",
              "      gap: 12px;\n",
              "    }\n",
              "\n",
              "    .colab-df-convert {\n",
              "      background-color: #E8F0FE;\n",
              "      border: none;\n",
              "      border-radius: 50%;\n",
              "      cursor: pointer;\n",
              "      display: none;\n",
              "      fill: #1967D2;\n",
              "      height: 32px;\n",
              "      padding: 0 0 0 0;\n",
              "      width: 32px;\n",
              "    }\n",
              "\n",
              "    .colab-df-convert:hover {\n",
              "      background-color: #E2EBFA;\n",
              "      box-shadow: 0px 1px 2px rgba(60, 64, 67, 0.3), 0px 1px 3px 1px rgba(60, 64, 67, 0.15);\n",
              "      fill: #174EA6;\n",
              "    }\n",
              "\n",
              "    [theme=dark] .colab-df-convert {\n",
              "      background-color: #3B4455;\n",
              "      fill: #D2E3FC;\n",
              "    }\n",
              "\n",
              "    [theme=dark] .colab-df-convert:hover {\n",
              "      background-color: #434B5C;\n",
              "      box-shadow: 0px 1px 3px 1px rgba(0, 0, 0, 0.15);\n",
              "      filter: drop-shadow(0px 1px 2px rgba(0, 0, 0, 0.3));\n",
              "      fill: #FFFFFF;\n",
              "    }\n",
              "  </style>\n",
              "\n",
              "      <script>\n",
              "        const buttonEl =\n",
              "          document.querySelector('#df-98b0b46a-0493-49a5-add2-2af4dc367ec1 button.colab-df-convert');\n",
              "        buttonEl.style.display =\n",
              "          google.colab.kernel.accessAllowed ? 'block' : 'none';\n",
              "\n",
              "        async function convertToInteractive(key) {\n",
              "          const element = document.querySelector('#df-98b0b46a-0493-49a5-add2-2af4dc367ec1');\n",
              "          const dataTable =\n",
              "            await google.colab.kernel.invokeFunction('convertToInteractive',\n",
              "                                                     [key], {});\n",
              "          if (!dataTable) return;\n",
              "\n",
              "          const docLinkHtml = 'Like what you see? Visit the ' +\n",
              "            '<a target=\"_blank\" href=https://colab.research.google.com/notebooks/data_table.ipynb>data table notebook</a>'\n",
              "            + ' to learn more about interactive tables.';\n",
              "          element.innerHTML = '';\n",
              "          dataTable['output_type'] = 'display_data';\n",
              "          await google.colab.output.renderOutput(dataTable, element);\n",
              "          const docLink = document.createElement('div');\n",
              "          docLink.innerHTML = docLinkHtml;\n",
              "          element.appendChild(docLink);\n",
              "        }\n",
              "      </script>\n",
              "    </div>\n",
              "  </div>\n",
              "  "
            ]
          },
          "metadata": {},
          "execution_count": 76
        }
      ],
      "source": [
        "df.head()"
      ]
    },
    {
      "cell_type": "code",
      "execution_count": 94,
      "id": "1fcb9452",
      "metadata": {
        "colab": {
          "base_uri": "https://localhost:8080/"
        },
        "id": "1fcb9452",
        "outputId": "81f98f5c-4de9-4fe4-cca7-3869ff1df279"
      },
      "outputs": [
        {
          "output_type": "stream",
          "name": "stdout",
          "text": [
            "{'France': 0, 'Spain': 1, 'Germany': 2} {'Hargrave': 0, 'Hill': 1, 'Onio': 2, 'Boni': 3, 'Mitchell': 4, 'Chu': 5, 'Bartlett': 6, 'Obinna': 7, 'He': 8, 'H?': 9, 'Bearce': 10, 'Andrews': 11, 'Kay': 12, 'Chin': 13, 'Scott': 14, 'Goforth': 15, 'Romeo': 16, 'Henderson': 17, 'Muldrow': 18, 'Hao': 19, 'McDonald': 20, 'Dellucci': 21, 'Gerasimov': 22, 'Mosman': 23, 'Yen': 24, 'Maclean': 25, 'Young': 26, 'Nebechi': 27, 'McWilliams': 28, 'Lucciano': 29, 'Azikiwe': 30, 'Odinakachukwu': 31, 'Sanderson': 32, 'Maggard': 33, 'Clements': 34, 'Lombardo': 35, 'Watson': 36, 'Lorenzo': 37, 'Armstrong': 38, 'Cameron': 39, 'Hsiao': 40, 'Clarke': 41, 'Osborne': 42, 'Lavine': 43, 'Bianchi': 44, 'Tyler': 45, 'Martin': 46, 'Okagbue': 47, 'Yin': 48, 'Buccho': 49, 'Chidiebele': 50, 'Trevisani': 51, \"O'Brien\": 52, 'Parkhill': 53, 'Yoo': 54, 'Phillipps': 55, 'Tsao': 56, 'Endrizzi': 57, \"T'ien\": 58, 'Velazquez': 59, 'Hunter': 60, 'Clark': 61, 'Jeffrey': 62, 'Pirozzi': 63, 'Jackson': 64, 'Hammond': 65, 'Brownless': 66, 'Chibugo': 67, 'Glauert': 68, 'Pisano': 69, 'Konovalova': 70, 'McKee': 71, 'Palermo': 72, 'Ballard': 73, 'Wallace': 74, 'Cavenagh': 75, 'Hu': 76, 'Read': 77, 'Bushell': 78, 'Postle': 79, 'Buley': 80, 'Leonard': 81, 'Mills': 82, 'Onyeorulu': 83, 'Beit': 84, 'Ndukaku': 85, 'Gant': 86, 'Rowley': 87, 'Sharpe': 88, 'Heap': 89, 'Ritchie': 90, 'Cole': 91, 'Capon': 92, 'Fiorentini': 93, 'Graham': 94, 'Yuille': 95, 'Allard': 96, 'Fanucci': 97, 'Fu': 98, 'Hung': 99, 'Bradley': 100, 'Dunbabin': 101, 'Mauldon': 102, 'Stiger': 103, 'Parsons': 104, 'Walkom': 105, \"T'ang\": 106, 'Eremenko': 107, 'Rowntree': 108, 'Thorpe': 109, 'Chiemela': 110, 'Ko': 111, 'Welch': 112, 'Duncan': 113, 'Chidozie': 114, 'Wu': 115, 'Culbreth': 116, 'Kennedy': 117, 'Calabresi': 118, 'Zetticci': 119, 'Fuller': 120, 'MacDonald': 121, 'Piccio': 122, 'Fernie': 123, 'Kaodilinakachukwu': 124, 'Cocci': 125, 'Alekseeva': 126, 'Chinweike': 127, 'Arthur': 128, 'Li': 129, 'Ma': 130, 'Chia': 131, 'Vasin': 132, 'Groves': 133, 'Tien': 134, 'Forwood': 135, 'Greeves': 136, 'Taylor': 137, 'Madukwe': 138, 'Bennelong': 139, 'Olisanugo': 140, 'Chukwufumnanya': 141, 'Harris': 142, 'Morgan': 143, 'Alexeeva': 144, 'Metcalfe': 145, 'Humphries': 146, 'Milne': 147, 'Chou': 148, 'Clayton': 149, 'Chigolum': 150, 'Wilkinson': 151, 'Wei': 152, 'Treacy': 153, 'Taverner': 154, 'Sherman': 155, 'Taubman': 156, 'Robinson': 157, 'Pinto': 158, 'Wood': 159, 'Hawkins': 160, 'Sun': 161, 'Yost': 162, 'Ting': 163, 'Rowe': 164, 'Ho': 165, 'Okechukwu': 166, 'Campbell': 167, 'Ashbolt': 168, 'Rozier': 169, 'Hsia': 170, 'Ogbonnaya': 171, 'Chang': 172, \"T'ao\": 173, 'Ford': 174, 'Marshall': 175, 'Tsai': 176, 'Onwumelu': 177, 'Golovanov': 178, 'Potts': 179, 'Crawford': 180, 'Aleshire': 181, 'Moran': 182, 'Samsonova': 183, 'Jenkins': 184, 'Volkov': 185, 'Chiemezie': 186, 'Jude': 187, 'Onuora': 188, 'Ginikanwa': 189, 'Ku': 190, 'Collins': 191, 'Hackett': 192, 'Dike': 193, 'Trevisano': 194, 'Tan': 195, 'Glassman': 196, 'Miller': 197, 'Kornilova': 198, 'Marchesi': 199, 'Millar': 200, 'Shih': 201, 'Hay': 202, 'Yang': 203, 'McIntyre': 204, 'Stevenson': 205, 'Poole': 206, 'Bagley': 207, \"Ch'ien\": 208, 'Cattaneo': 209, \"O'Sullivan\": 210, 'Lucas': 211, 'Ringrose': 212, 'Freeman': 213, 'Sergeyev': 214, 'Fiore': 215, 'Smith': 216, 'Dumetochukwu': 217, 'Pacheco': 218, 'Synnot': 219, 'Johnston': 220, 'Stevens': 221, 'Grant': 222, 'Barnes': 223, 'McIntosh': 224, 'Madison': 225, 'Ifesinachi': 226, 'Glazkov': 227, 'Dimauro': 228, 'Wieck': 229, 'Liao': 230, 'Hughes': 231, 'Morrison': 232, 'Matveyeva': 233, 'Cheatham': 234, 'Yao': 235, 'Kirkland': 236, 'Rose': 237, 'Jess': 238, 'Ifeajuna': 239, 'Morton': 240, 'Rossi': 241, 'Reppert': 242, 'Kang': 243, \"Ch'iu\": 244, 'Wallis': 245, 'Fielding': 246, 'Dulhunty': 247, 'Bevington': 248, 'Boyle': 249, 'Newton': 250, 'Bowman': 251, 'Dubinina': 252, 'Toscani': 253, 'Chiazagomekpere': 254, 'Allen': 255, \"K'ung\": 256, 'Wilsmore': 257, 'Hargreaves': 258, 'Huang': 259, 'Wallwork': 260, 'Davidson': 261, \"O'Donnell\": 262, 'Nnachetam': 263, 'Ahmed': 264, 'Booth': 265, 'Chuang': 266, 'Shao': 267, 'Johnson': 268, 'French': 269, 'Efremov': 270, 'Hartley': 271, 'Calabrese': 272, 'Chiu': 273, 'Brennan': 274, 'Onwuatuegwu': 275, 'Hewitt': 276, 'Balashov': 277, 'Doyle': 278, 'Pokrovskii': 279, 'Russo': 280, 'Skinner': 281, 'Robertson': 282, 'Atkinson': 283, 'McEncroe': 284, 'Pearson': 285, 'Gordon': 286, \"Ts'ai\": 287, 'Lung': 288, 'Yuan': 289, 'Pardey': 290, 'Tai': 291, 'Mazzanti': 292, 'L?': 293, 'Beach': 294, 'Hsieh': 295, 'Faulkner': 296, 'Knowles': 297, 'Day': 298, 'Hsueh': 299, 'Nwabugwu': 300, 'Kerr': 301, 'Marrero': 302, 'White': 303, 'Brown': 304, 'Russell': 305, 'Seleznyov': 306, 'Yusupova': 307, 'Foley': 308, 'Ikedinachukwu': 309, 'Power': 310, 'Amos': 311, 'Reed': 312, 'Simmons': 313, 'Ricci': 314, 'West': 315, 'Chen': 316, 'Madukaego': 317, 'Ibrahimova': 318, 'Nolan': 319, 'Blair': 320, 'Monaldo': 321, 'Sutherland': 322, 'Briggs': 323, 'Gregory': 324, 'Angelo': 325, 'Gardiner': 326, 'Distefano': 327, 'Farrell': 328, 'Milano': 329, 'Boyd': 330, 'Onyemaechi': 331, 'Black': 332, 'Oliver': 333, 'Greco': 334, 'Whitehead': 335, 'Ikemefuna': 336, 'Onyeoruru': 337, 'Cunningham': 338, 'Demidov': 339, 'Celis': 340, 'Cheng': 341, 'Knight': 342, 'Morin': 343, 'Outhwaite': 344, 'Tung': 345, 'Pai': 346, 'Carpenter': 347, 'Fennell': 348, 'Fontaine': 349, 'Pratt': 350, 'Franklin': 351, 'McKenzie': 352, 'Pino': 353, 'Fisk': 354, 'Chiang': 355, 'Moseley': 356, 'Hsiung': 357, 'Heath': 358, 'De Salis': 359, 'Richardson': 360, 'Fitch': 361, 'Estes': 362, 'Lattimore': 363, 'Chung': 364, 'Utz': 365, 'Nwachinemelu': 366, 'Kuznetsova': 367, 'Pisani': 368, 'Manna': 369, 'Collier': 370, 'Carr': 371, 'Hs?': 372, 'Findlay': 373, 'Chukwuemeka': 374, 'Genovese': 375, 'Swift': 376, 'Ugoji': 377, 'Parkinson': 378, 'Ross': 379, 'Oleary': 380, 'Turnbull': 381, 'Uspensky': 382, 'Cook': 383, 'Newbold': 384, 'Uchechukwu': 385, \"Ch'en\": 386, 'Hilton': 387, 'Sal': 388, 'Eluemuno': 389, 'Titus': 390, 'Lettiere': 391, 'Templeman': 392, 'Chibuzo': 393, 'Evans': 394, 'Enyinnaya': 395, 'Brookes': 396, 'Padovano': 397, 'Hare': 398, 'Muir': 399, 'Elewechi': 400, 'Ankudinov': 401, 'Nwokike': 402, 'Atkins': 403, 'Burns': 404, 'Obiuto': 405, 'George': 406, 'Lewis': 407, 'Dalrymple': 408, 'Carslaw': 409, 'Kirby': 410, 'Houghton': 411, 'Westerberg': 412, 'Hale': 413, 'Kryukova': 414, 'Sopuluchukwu': 415, 'Barry': 416, 'Selezneva': 417, 'Chizuoke': 418, 'Lueck': 419, 'Udinese': 420, 'Udobata': 421, 'Outlaw': 422, 'Lo': 423, 'King': 424, 'Forbes': 425, 'Macleod': 426, 'Gibbs': 427, 'Isayev': 428, 'Belstead': 429, 'Vassiliev': 430, 'Schneider': 431, 'Knipe': 432, 'Macartney': 433, 'Watts': 434, 'Humphreys': 435, 'Chesnokova': 436, 'Kung': 437, 'Lu': 438, 'Nkemakolam': 439, 'Walton': 440, 'Baldwin': 441, 'Mai': 442, 'Ferreira': 443, 'Ukaegbunam': 444, 'De Luca': 445, 'Davide': 446, 'Kodilinyechukwu': 447, 'Little': 448, 'Paterson': 449, 'Han': 450, 'Ijendu': 451, 'Reichard': 452, 'Price': 453, 'Bruce': 454, 'Sumrall': 455, 'Lazarev': 456, 'Wentworth-Shields': 457, 'Mackenzie': 458, 'Pendergrass': 459, 'Billson': 460, 'Teng': 461, 'Moretti': 462, 'Jordan': 463, \"Ts'ao\": 464, \"Ch'ang\": 465, 'Obialo': 466, 'Gray': 467, 'Lin': 468, 'Hopkins': 469, 'Dobson': 470, 'McKay': 471, 'Revell': 472, 'Rickards': 473, 'Begum': 474, 'Onyinyechukwuka': 475, 'Zuyev': 476, 'Nwankwo': 477, 'Okwuadigbo': 478, 'Chan': 479, 'Buchi': 480, 'Lombardi': 481, 'Uchenna': 482, 'Coffman': 483, 'Alexandrova': 484, 'Fallaci': 485, 'Hudson': 486, 'Stout': 487, 'Burke': 488, 'Chadwick': 489, 'Lawrence': 490, 'Bellucci': 491, 'Harper': 492, 'Moss': 493, 'Avdeyeva': 494, 'Lynton': 495, 'Gether': 496, 'Larionova': 497, 'Loggia': 498, 'Steinhoff': 499, 'Guerra': 500, 'Craig': 501, 'Lazareva': 502, 'Alderete': 503, 'Rahman': 504, 'McMillan': 505, 'Pickering': 506, 'Mirams': 507, 'Douglas': 508, 'Jideofor': 509, 'Bell': 510, 'Mairinger': 511, 'Pagnotto': 512, 'Feng': 513, 'Donaldson': 514, 'Chambers': 515, 'Marcelo': 516, 'Ejimofor': 517, 'Dale': 518, 'Pokrovsky': 519, 'Stonebraker': 520, 'Liang': 521, 'Anderson': 522, 'Christian': 523, 'Mao': 524, 'Sagese': 525, 'Fleming': 526, 'Grubb': 527, 'Napolitani': 528, 'Anenechi': 529, 'Chandler': 530, 'Howells': 531, 'Akeroyd': 532, 'Uwaezuoke': 533, 'Loyau': 534, 'Small': 535, 'Bledsoe': 536, 'Kao': 537, 'Wickens': 538, 'Wertheim': 539, 'Jarvis': 540, \"P'an\": 541, 'Repina': 542, 'Pugliesi': 543, 'Blakey': 544, 'Nucci': 545, 'Higinbotham': 546, 'Achebe': 547, 'Dobie': 548, 'Maccallum': 549, 'Watkins': 550, 'Mitchel': 551, 'Ferdinand': 552, 'Otitodilinna': 553, 'Mamelu': 554, 'Beneventi': 555, 'Perrodin': 556, 'Chinagorom': 557, 'Napolitano': 558, 'Edgar': 559, 'Walker': 560, 'Steele': 561, 'Elkins': 562, 'Toscano': 563, 'Savage': 564, 'Mordvinova': 565, 'Kent': 566, 'Cooper': 567, 'Mazzi': 568, 'Fisher': 569, 'Summers': 570, 'Brady': 571, 'Nicholls': 572, 'Golubov': 573, 'Oldham': 574, 'Kambinachi': 575, 'Chinwemma': 576, 'Olsen': 577, 'Jen': 578, 'Preston': 579, 'Ozioma': 580, 'Cody': 581, 'Ponomarev': 582, 'Milani': 583, 'Tang': 584, 'Romani': 585, 'Davis': 586, 'Onyemauchechukwu': 587, 'Gell': 588, 'Chiwetelu': 589, 'Kirillova': 590, 'Shaw': 591, 'Okwudilichukwu': 592, 'Onuoha': 593, 'Muecke': 594, 'Azubuike': 595, 'Nnonso': 596, 'Ashley': 597, \"Ts'ui\": 598, 'Kenenna': 599, 'Beluchi': 600, 'Williamson': 601, 'Bobrov': 602, 'Pitts': 603, 'Standish': 604, 'Cartwright': 605, 'Johnstone': 606, 'Nikitina': 607, 'McElroy': 608, 'Shen': 609, 'Archer': 610, 'Otutodilinna': 611, 'Denisov': 612, 'Owens': 613, \"P'eng\": 614, 'Verco': 615, 'Bergamaschi': 616, 'Outtrim': 617, 'Hou': 618, 'Galkin': 619, 'Echezonachukwu': 620, 'Munro': 621, 'Ball': 622, 'Virgo': 623, 'Tao': 624, 'Perez': 625, 'Fraser': 626, 'Alley': 627, 'Hooper': 628, 'Rice': 629, 'Cox': 630, 'Ikenna': 631, 'Alexander': 632, 'Piazza': 633, 'Ni': 634, 'Harker': 635, 'Chiabuotu': 636, 'Kuo': 637, 'Gallagher': 638, 'Zhirov': 639, 'Lloyd': 640, 'Palmer': 641, \"Ch'eng\": 642, 'Avent': 643, 'Trentini': 644, 'Koehler': 645, 'Okoli': 646, 'Nwokezuike': 647, 'Artemiev': 648, 'Esposito': 649, 'Abbie': 650, 'Averyanov': 651, 'Unaipon': 652, 'Clamp': 653, 'Lim': 654, 'Wan': 655, 'Pettit': 656, 'Baresi': 657, 'Newbery': 658, 'Iheanacho': 659, 'Landry': 660, 'McGregor': 661, 'Pirogov': 662, 'Oguejiofor': 663, 'Ugochukwu': 664, 'Rohu': 665, 'Cary': 666, \"O'Loghlen\": 667, 'Quinn': 668, 'Page': 669, 'Stanley': 670, 'Bednall': 671, 'She': 672, 'May': 673, 'Seabrook': 674, 'Herrera': 675, 'Kincaid': 676, 'Sleeman': 677, 'Artemieva': 678, 'Barwell': 679, 'Wright': 680, 'Moore': 681, 'Sung': 682, 'Mello': 683, 'Mistry': 684, 'Chukwukadibia': 685, 'Zikoranachidimma': 686, 'Oluchukwu': 687, 'Rivera': 688, 'Niu': 689, 'Bennett': 690, 'Wollstonecraft': 691, 'Thomsen': 692, 'Chinwendu': 693, 'James': 694, 'Lamb': 695, 'Olejuru': 696, 'Chiawuotu': 697, 'Yeates': 698, 'Thurgood': 699, 'Knupp': 700, 'Baryshnikov': 701, 'Shephard': 702, 'Avdeeva': 703, 'Hsu': 704, 'Buchanan': 705, 'Yeh': 706, 'Palazzi': 707, 'Y?an': 708, 'Schofield': 709, 'Wall': 710, 'Blackburn': 711, 'Wickham': 712, 'Bird': 713, 'Brizendine': 714, \"Ch'in\": 715, 'Yusupov': 716, 'Jibunoh': 717, 'Wilder': 718, 'Nepean': 719, 'McNess': 720, 'Coles': 721, 'Benson': 722, 'Gilbert': 723, 'Wilhelm': 724, 'Sinclair': 725, 'Buckner': 726, 'Padovesi': 727, 'Palerma': 728, 'Pan': 729, 'Kenniff': 730, 'Spencer': 731, 'Lees': 732, 'David': 733, 'Hsing': 734, 'Ginn': 735, 'Sozonov': 736, 'Manfrin': 737, 'Artamonova': 738, 'Hansen': 739, 'Larsen': 740, 'Owen': 741, 'Murphy': 742, 'Ekechukwu': 743, 'Ayers': 744, 'Sanders': 745, 'Eberechukwu': 746, 'Bardin': 747, 'Talbot': 748, 'Goold': 749, 'Zikoranaudodimma': 750, 'Garner': 751, 'Naylor': 752, 'Fulton': 753, 'McCaffrey': 754, 'Zuev': 755, 'Fabro': 756, 'Chatfield': 757, 'Volkova': 758, 'Abramovich': 759, 'Chien': 760, 'Timms': 761, 'Williford': 762, 'Hamilton': 763, 'Su': 764, 'Akobundu': 765, 'Chukwuebuka': 766, 'Lampungmeiua': 767, 'Kline': 768, 'Riggs': 769, 'Davison': 770, 'Ingram': 771, 'Dilke': 772, 'Gibson': 773, 'Iadanza': 774, 'Hebert': 775, 'Jamieson': 776, 'Chiganu': 777, 'Burgess': 778, 'Woods': 779, 'Bluett': 780, 'Chapman': 781, 'Andrejew': 782, 'Spyer': 783, 'Philip': 784, 'Perry': 785, 'Fokine': 786, 'Mackay': 787, 'Maslova': 788, 'McLean': 789, 'Thompson': 790, 'Tisdall': 791, 'Onochie': 792, 'Mironova': 793, 'Ndubueze': 794, 'Stephenson': 795, 'Golubev': 796, 'Mullan': 797, 'Glover': 798, 'Northey': 799, 'Howarde': 800, 'Colman': 801, 'Butcher': 802, 'Wilkie': 803, 'Bray': 804, 'Ann': 805, 'Souter': 806, 'Medvedeva': 807, 'Onwudiwe': 808, 'Ferrari': 809, 'Hazon': 810, 'Hardy': 811, 'Dickson': 812, 'Holden': 813, 'Doherty': 814, 'Samuel': 815, 'Malloy': 816, 'Fitts': 817, 'Yefimova': 818, 'Abramov': 819, 'Demuth': 820, 'Lawless': 821, 'Brooks': 822, 'Ignatyeva': 823, 'Balmain': 824, 'Ecuyer': 825, 'Li Fonti': 826, 'Despeissis': 827, 'Williams': 828, 'Hancock': 829, 'Wilkins': 830, 'Longo': 831, 'Mancini': 832, 'Winter-Irving': 833, 'Stewart': 834, 'Murray': 835, 'Rischbieth': 836, 'Otutodilichukwu': 837, 'Thomas': 838, 'Whitworth': 839, 'Trentino': 840, 'McMasters': 841, 'Alekseyeva': 842, 'Baranova': 843, 'Yobachi': 844, 'Sorokina': 845, 'Ervin': 846, 'Vance': 847, 'Noble': 848, 'Milanesi': 849, 'Parkin': 850, 'Cremonesi': 851, 'Docherty': 852, 'Ugonna': 853, 'Bevan': 854, \"O'Neill\": 855, 'Pham': 856, 'Osinachi': 857, 'Muravyov': 858, 'Igwebuike': 859, 'Zack': 860, 'Chidiegwu': 861, 'Lucchesi': 862, 'Yudin': 863, 'Wade': 864, 'Septimus': 865, 'Hargraves': 866, 'Sidorov': 867, 'Bunton': 868, 'Conti': 869, 'Sims': 870, 'Carter': 871, 'Dumetolisa': 872, 'Peng': 873, 'Drake-Brockman': 874, 'Tretiakov': 875, 'Lai': 876, 'Justice': 877, 'Osonduagwuike': 878, 'Ewing': 879, 'Tsou': 880, 'Ubanwa': 881, 'Kapustin': 882, 'Nnamutaezinwa': 883, 'Ferri': 884, 'Amechi': 885, 'Kirk': 886, 'Griffin': 887, 'Longstaff': 888, 'McWilliam': 889, 'Coffee': 890, 'Creswell': 891, 'Dodds': 892, 'Ewen': 893, 'Boniwell': 894, 'Vasilieva': 895, 'Kwemto': 896, 'Bocharova': 897, 'Morres': 898, 'Vogel': 899, \"T'an\": 900, 'Wisdom': 901, 'Shahan': 902, 'Bryant': 903, 'Hayward': 904, 'Liu': 905, 'Greece': 906, 'Norman': 907, 'Chukwudi': 908, 'Fedorov': 909, 'Reid': 910, 'Wofford': 911, 'Stephens': 912, 'Frolov': 913, 'Fields': 914, 'Suffolk': 915, 'Judd': 916, 'Degtyarev': 917, 'Kinlaw': 918, 'Omeokachie': 919, 'Gorbunova': 920, 'Tikhonov': 921, 'Campa': 922, 'Donoghue': 923, 'Tuan': 924, 'Baxter': 925, 'Rogers': 926, 'Byrne': 927, 'Aitken': 928, 'Macintyre': 929, 'Simpson': 930, 'Praed': 931, 'Laurens': 932, 'Bykov': 933, 'Vorobyova': 934, 'Pirogova': 935, 'Sturt': 936, 'Panicucci': 937, 'Siciliani': 938, 'Lucchese': 939, 'Swaim': 940, 'Quinones': 941, 'Ludowici': 942, 'Larson': 943, 'Landman': 944, 'K?': 945, 'Alexeyeva': 946, 'Chukwualuka': 947, 'McCall': 948, 'Okeke': 949, 'Iloabuchi': 950, 'Nebechukwu': 951, 'Diribe': 952, 'Macgroarty': 953, 'Artemova': 954, 'Kelly': 955, 'Reilly': 956, 'Ojiofor': 957, 'Shelton': 958, 'Lange': 959, 'Hovell': 960, 'Espinosa': 961, 'Barbour': 962, 'Ozerova': 963, 'Ulyanova': 964, 'Steiner': 965, 'Akabueze': 966, 'Aleksandrova': 967, 'Griffiths': 968, 'McNeil': 969, 'Bruno': 970, 'Okorie': 971, 'Moen': 972, 'McGuigan': 973, 'Fancher': 974, 'Matthews': 975, 'Kaeppel': 976, 'Yudina': 977, 'Jamison': 978, 'Hardiman': 979, 'Woodard': 980, 'Chienezie': 981, 'Chineze': 982, 'Buckland': 983, 'Flannery': 984, 'Payne': 985, 'Vincent': 986, 'Pearce': 987, 'Riley': 988, 'Honore': 989, 'Macarthur': 990, 'Gould': 991, 'Medvedev': 992, 'Sholes': 993, 'Rolon': 994, 'Bligh': 995, 'Lamble': 996, 'Jose': 997, 'Howard': 998, 'Onwuamaeze': 999, \"D'Albertis\": 1000, 'Nwachukwu': 1001, 'Simpkinson': 1002, 'Conway': 1003, 'Maslow': 1004, 'Swadling': 1005, 'Gallo': 1006, 'Onyemachukwu': 1007, 'Samoylova': 1008, 'Leak': 1009, 'Frost': 1010, 'Warner': 1011, 'Ifeatu': 1012, 'Fan': 1013, 'Whiddon': 1014, 'Onyekachukwu': 1015, 'Ermakova': 1016, 'Marino': 1017, 'Onyemere': 1018, 'Everingham': 1019, 'Huie': 1020, 'Crowther': 1021, 'Skelton': 1022, 'Giordano': 1023, 'Bateson': 1024, 'Elizabeth': 1025, 'Serrano': 1026, 'Willis': 1027, 'Mashman': 1028, 'Tu': 1029, 'Romano': 1030, 'Goliwe': 1031, 'Chiemeka': 1032, 'Kellway': 1033, 'Sopuluchi': 1034, 'Spitzer': 1035, 'Potter': 1036, 'Kovalyova': 1037, 'Miah': 1038, 'Builder': 1039, 'Baddeley': 1040, 'Todd': 1041, 'Obiajulu': 1042, 'Farmer': 1043, 'Ignatieff': 1044, 'Okonkwo': 1045, 'Dore': 1046, 'Bazarova': 1047, 'Burn': 1048, 'Andreyev': 1049, 'Nock': 1050, 'Kelley': 1051, 'Wilson': 1052, 'McFarland': 1053, 'Cisneros': 1054, 'Borchgrevink': 1055, 'Rozhkova': 1056, 'Veltri': 1057, 'Golibe': 1058, 'Udinesi': 1059, 'Curtis': 1060, 'Hayden': 1061, 'Green': 1062, 'Gough': 1063, 'Bates': 1064, 'Kharlamov': 1065, 'Ferguson': 1066, 'Le Grand': 1067, 'Valdez': 1068, 'Godfrey': 1069, 'Robson': 1070, 'Yevdokimova': 1071, 'Colombo': 1072, 'Akubundu': 1073, 'Francis': 1074, 'Rhodes': 1075, 'Y?': 1076, 'Burgmann': 1077, 'Macvitie': 1078, 'Townsend': 1079, 'Pope': 1080, 'Jensen': 1081, 'Thomson': 1082, 'Chiazagomekpele': 1083, 'Ozuluonye': 1084, 'Fang': 1085, 'Horton': 1086, 'Schiavone': 1087, 'Fiorentino': 1088, 'Butusov': 1089, 'Wang': 1090, 'Alexeieva': 1091, 'Vinogradova': 1092, 'Bage': 1093, 'Naquin': 1094, 'Schroeder': 1095, 'Swearingen': 1096, 'Kozlova': 1097, 'Nekrasov': 1098, 'Olague': 1099, 'Holt': 1100, 'Davila': 1101, 'Giles': 1102, \"O'Meara\": 1103, 'Chukwuraenye': 1104, 'Tipton': 1105, 'Morey': 1106, 'Afamefuna': 1107, 'Ibbott': 1108, 'Law': 1109, 'Chinedum': 1110, 'Kruglov': 1111, 'Stone': 1112, 'Wiley': 1113, 'Chiagoziem': 1114, 'Chukwukere': 1115, 'Lee': 1116, 'Theus': 1117, 'Jennings': 1118, 'Parker': 1119, 'Patterson': 1120, 'Ofodile': 1121, 'Nash': 1122, 'Brenan': 1123, 'Obidimkpa': 1124, 'Terry': 1125, 'Spring': 1126, 'Mahmood': 1127, 'Amaechi': 1128, 'Foxall': 1129, 'Bentley': 1130, 'Baird': 1131, 'Henry': 1132, 'Rocher': 1133, 'Komar': 1134, 'Loewenthal': 1135, 'Aliyeva': 1136, 'Montes': 1137, 'Tyndall': 1138, 'Bailey': 1139, 'Onyekaozulu': 1140, 'Christmas': 1141, 'Genovesi': 1142, 'Ellis': 1143, 'Onuchukwu': 1144, 'Quaife': 1145, 'Holder': 1146, 'Lahti': 1147, 'Perkins': 1148, 'Hayes': 1149, 'Rizzo': 1150, 'Krylov': 1151, 'Matthias': 1152, 'Mason': 1153, 'Smeaton': 1154, 'Gotch': 1155, \"O'Toole\": 1156, 'Ledford': 1157, 'Alaniz': 1158, 'Saunders': 1159, 'Streeter': 1160, 'Barclay': 1161, 'Otitodilichukwu': 1162, 'Wheare': 1163, 'Soto': 1164, 'Bogle': 1165, 'Grimmett': 1166, 'Webb': 1167, 'Nwokeocha': 1168, 'Olisaemeka': 1169, 'Yobanna': 1170, 'Trevisan': 1171, 'Knox': 1172, 'Moyes': 1173, 'Beavers': 1174, 'Tretiakova': 1175, 'Aikenhead': 1176, 'Cran': 1177, 'Golubova': 1178, 'McElyea': 1179, 'Rosas': 1180, 'Phillips': 1181, 'Morris': 1182, 'Pavlova': 1183, 'Yamamoto': 1184, 'Zaitsev': 1185, 'Cawker': 1186, 'Froggatt': 1187, 'Gorbunov': 1188, 'Mikkelsen': 1189, 'Kovalyov': 1190, 'Mbanefo': 1191, 'Enderby': 1192, 'Lira': 1193, 'Castiglione': 1194, 'Yuryeva': 1195, 'Dean': 1196, 'Vasiliev': 1197, 'Fedorova': 1198, 'Samson': 1199, 'Fenton': 1200, 'Mackey': 1201, 'Payton': 1202, 'Cowger': 1203, 'Banks': 1204, 'Fantin': 1205, 'Wong': 1206, 'Roberts': 1207, 'Lo Duca': 1208, 'Ashton': 1209, 'Melton': 1210, 'Zakharov': 1211, 'Patrick': 1212, 'DeRose': 1213, 'Vavilov': 1214, 'Browne': 1215, 'Collingridge de Tourcey': 1216, 'Korovin': 1217, 'Hammonds': 1218, 'Ward': 1219, 'Gallop': 1220, 'Gartrell': 1221, 'Oluchi': 1222, 'Barlow': 1223, 'Burgin': 1224, 'Nnaife': 1225, 'Okwudiliolisa': 1226, 'Parkes': 1227, 'Kapustina': 1228, 'Greathouse': 1229, 'Beers': 1230, 'Tretyakova': 1231, 'Costa': 1232, 'Ibezimako': 1233, 'Lumholtz': 1234, 'Mouzon': 1235, 'Ibeabuchi': 1236, 'Garnsey': 1237, 'Wildman': 1238, 'Anenechukwu': 1239, 'Plant': 1240, 'Babbage': 1241, 'Norton': 1242, 'Bogolyubov': 1243, 'Gibbons': 1244, 'Gregson': 1245, 'Speth': 1246, 'Boag': 1247, 'Grave': 1248, 'Streeten': 1249, 'Fox': 1250, 'Artemyeva': 1251, 'Gardner': 1252, 'Uwakwe': 1253, 'Bellew': 1254, 'Krichauff': 1255, 'Becker': 1256, 'Ainsworth': 1257, 'Biryukov': 1258, 'Redding': 1259, 'Inman': 1260, 'Hanson': 1261, 'Fischer': 1262, 'Chinweuba': 1263, 'Henning': 1264, 'Ogochukwu': 1265, 'Narelle': 1266, 'Bergman': 1267, 'Harrison': 1268, 'Goodman': 1269, 'Ugochukwutubelum': 1270, 'Uvarova': 1271, 'Innes': 1272, 'Craigie': 1273, 'Onyekachi': 1274, 'Pethard': 1275, 'Obielumani': 1276, 'Emery': 1277, 'Dufresne': 1278, 'Vial': 1279, 'Pruneda': 1280, 'Neumann': 1281, 'Yobachukwu': 1282, 'Hess': 1283, 'Anayolisa': 1284, 'Zhou': 1285, 'Bustard': 1286, 'Ngozichukwuka': 1287, 'Lane': 1288, 'Davy': 1289, 'Barrera': 1290, 'Hall': 1291, 'Lysaght': 1292, 'Kelechi': 1293, 'Chikezie': 1294, 'Dreyer': 1295, 'Short': 1296, 'Hunt': 1297, 'Kibby': 1298, 'Ramos': 1299, 'Keeley': 1300, 'Farrar': 1301, 'Greenhalgh': 1302, 'Odili': 1303, 'Kolesnikov': 1304, 'Rutherford': 1305, 'Mendes': 1306, 'Bronner': 1307, 'Meany': 1308, 'Le Gallienne': 1309, 'Wheeler': 1310, 'Christie': 1311, 'Favors': 1312, 'Vida': 1313, 'Wayn': 1314, 'Nuttall': 1315, 'McEwan': 1316, 'Holman': 1317, 'Bazhenov': 1318, 'Kemp': 1319, 'Ebelegbulam': 1320, 'Tseng': 1321, 'Yermakov': 1322, 'Chukwunonso': 1323, 'Dawson': 1324, 'Ifeanyichukwu': 1325, 'Musgrove': 1326, 'Boulger': 1327, 'Gow': 1328, 'Robe': 1329, 'Bibi': 1330, 'Arcuri': 1331, 'Muriel': 1332, 'MacDevitt': 1333, 'Chijindum': 1334, 'Nott': 1335, 'Lei': 1336, 'Sheets': 1337, 'Tokaryev': 1338, 'Unwin': 1339, 'Frater': 1340, 'Vanmeter': 1341, 'Rearick': 1342, 'Glenny': 1343, 'Marks': 1344, 'Trout': 1345, 'Morley': 1346, 'Somadina': 1347, 'Chieloka': 1348, 'Chioke': 1349, 'Kovalev': 1350, 'Baranov': 1351, 'Bidencope': 1352, 'De Bernales': 1353, 'Cashin': 1354, 'Seppelt': 1355, \"O'Connor\": 1356, 'McGuirk': 1357, 'Ruth': 1358, 'Aksenov': 1359, 'Meng': 1360, 'Nwoye': 1361, 'Aksyonova': 1362, 'Hammer': 1363, 'Abbott': 1364, 'Davydova': 1365, 'Nkemjika': 1366, 'Mario': 1367, 'Long': 1368, 'Nelson': 1369, 'Thornton': 1370, 'Warlow-Davies': 1371, 'Champion': 1372, 'William': 1373, 'Ozoemena': 1374, 'Archambault': 1375, 'Udegbulam': 1376, 'Greene': 1377, 'Blinova': 1378, 'De Garis': 1379, 'Holmwood': 1380, 'Chidubem': 1381, 'Randall': 1382, 'Leach': 1383, 'Light': 1384, 'Holloway': 1385, 'Nwebube': 1386, 'Chibueze': 1387, 'Lanford': 1388, 'Anthony': 1389, 'Myers': 1390, 'Davey': 1391, 'Chikere': 1392, 'Hs?eh': 1393, 'Witt': 1394, 'Kazantseva': 1395, 'Bowhay': 1396, 'Beyer': 1397, 'Fries': 1398, 'Connely': 1399, 'Connolly': 1400, 'Fomin': 1401, 'Chamberlain': 1402, 'Barber': 1403, 'Zimmer': 1404, 'Brazenor': 1405, 'Caldwell': 1406, 'Yirawala': 1407, 'Tokareva': 1408, 'Castella': 1409, 'Du Cane': 1410, 'Woronoff': 1411, 'Onodugoadiegbemma': 1412, 'Darling': 1413, 'Ponomaryov': 1414, 'Prokhorova': 1415, 'Blacklock': 1416, 'Sazonova': 1417, 'Henty': 1418, 'Azuka': 1419, 'Brock': 1420, 'Bulgakov': 1421, 'Lord': 1422, 'Uspenskaya': 1423, 'Powell': 1424, 'McChesney': 1425, 'Yuriev': 1426, 'Lablanc': 1427, 'Dodd': 1428, 'Dillon': 1429, 'Hoelscher': 1430, 'Udokamma': 1431, 'Sinnett': 1432, 'Chimaijem': 1433, 'Porter': 1434, 'Younger': 1435, 'Nwagugheuzo': 1436, 'Drake': 1437, 'Hanna': 1438, 'Loftus': 1439, 'Chidalu': 1440, 'Iredale': 1441, 'Padilla': 1442, 'Ibragimova': 1443, 'Nakayama': 1444, 'Gardener': 1445, 'Aksenova': 1446, 'Kudryashova': 1447, 'Hart': 1448, 'Kruglova': 1449, 'Shaffer': 1450, 'Laurie': 1451, 'Whitfield': 1452, 'Rioux': 1453, 'Matveyev': 1454, 'Nkemdirim': 1455, 'Brim': 1456, 'Soubeiran': 1457, 'Helena': 1458, 'Macdonald': 1459, 'Chiekwugo': 1460, 'Weller': 1461, 'Bess': 1462, 'Randell': 1463, 'Randolph': 1464, 'Hurst': 1465, 'Montalvo': 1466, 'Kosisochukwu': 1467, 'Vigano': 1468, 'Windradyne': 1469, 'Curnow': 1470, 'De Neeve': 1471, 'Ebelechukwu': 1472, 'Keating': 1473, 'Shearston': 1474, 'Arnold': 1475, 'Chao': 1476, 'Zhdanova': 1477, 'Fetherstonhaugh': 1478, 'Severson': 1479, 'Speight': 1480, 'Greenwalt': 1481, 'Grover': 1482, 'Muse': 1483, 'Marsden': 1484, 'Dennis': 1485, 'Nixon': 1486, 'Rivers': 1487, 'Sochima': 1488, 'Heydon': 1489, 'Holland': 1490, 'Debellis': 1491, 'Kibble': 1492, 'Lori': 1493, 'Enemuo': 1494, 'Nebeolisa': 1495, 'Chikwado': 1496, 'Yates': 1497, 'Watt': 1498, 'Lavrov': 1499, 'Korovina': 1500, 'Manning': 1501, 'Ingrassia': 1502, 'Langdon': 1503, 'Goddard': 1504, 'Zubareva': 1505, 'Newsom': 1506, 'Shoobridge': 1507, 'Fyodorova': 1508, 'Solomon': 1509, 'Layh': 1510, 'John': 1511, 'Slattery': 1512, 'Daniels': 1513, 'Chiemenam': 1514, 'Wanliss': 1515, 'Eames': 1516, 'Kenyon': 1517, 'Parry': 1518, 'Arnott': 1519, 'Steere': 1520, 'Dickinson': 1521, 'Evseyev': 1522, 'Ulyanov': 1523, 'Kazakova': 1524, 'Hannaford': 1525, 'Mahon': 1526, 'Miles': 1527, 'Voss': 1528, 'Colebatch': 1529, 'Chikelu': 1530, 'Allan': 1531, 'Yefremova': 1532, 'Garran': 1533, 'Nkemdilim': 1534, 'Rubensohn': 1535, 'Iqbal': 1536, 'Dyer': 1537, 'Lyons': 1538, 'Namatjira': 1539, 'Leibius': 1540, 'Coppin': 1541, 'Gerasimova': 1542, 'Humffray': 1543, 'Degtyaryov': 1544, 'Cawthorne': 1545, 'Khan': 1546, 'Iroawuchi': 1547, 'Bottrill': 1548, 'Jones': 1549, 'Sanford': 1550, 'Chimaobim': 1551, 'Jowers': 1552, 'Kirsova': 1553, 'Cockrum': 1554, 'Greaves': 1555, 'Reeves': 1556, 'Nnamdi': 1557, 'Charlton': 1558, 'Marsh': 1559, 'Pottinger': 1560, 'Buckley': 1561, 'Folliero': 1562, 'Jessop': 1563, 'Hodge': 1564, 'Ignatiev': 1565, 'Mansom': 1566, 'Komarova': 1567, 'Yu': 1568, 'Sutton': 1569, 'Hyde': 1570, 'Smalley': 1571, 'Barton': 1572, 'Horrocks': 1573, 'Frye': 1574, 'Mellor': 1575, 'Meredith': 1576, 'Chinomso': 1577, 'Chimaoke': 1578, 'Winters': 1579, 'Hawthorn': 1580, 'Hawdon': 1581, 'Joslin': 1582, 'Bidwill': 1583, 'Tate': 1584, 'Neal': 1585, 'Fulks': 1586, 'Siciliano': 1587, 'Ositadimma': 1588, 'Kazantsev': 1589, 'Dolgorukova': 1590, 'Singh': 1591, 'Shipton': 1592, 'Rivas': 1593, 'Hoolan': 1594, 'Pepper': 1595, 'Abramowitz': 1596, 'Abazu': 1597, 'Harriman': 1598, 'Frankland': 1599, 'Kwemtochukwu': 1600, 'To Rot': 1601, 'Lear': 1602, 'Winter': 1603, 'Hughes-Jones': 1604, 'Estrada': 1605, 'Heard': 1606, 'Efremova': 1607, 'Morphett': 1608, 'Lenhardt': 1609, 'McMorran': 1610, 'Phelan': 1611, 'Hotchin': 1612, 'Aksyonov': 1613, 'McGarry': 1614, 'Akhtar': 1615, 'McDaniels': 1616, 'Tennant': 1617, 'Donaghy': 1618, 'Tobenna': 1619, 'Vicars': 1620, 'Vessels': 1621, 'Heller': 1622, 'Dunn': 1623, 'Vasilyeva': 1624, 'Mollison': 1625, 'Aiken': 1626, 'Brabyn': 1627, 'Traeger': 1628, 'Ekwueme': 1629, 'Chinwenma': 1630, 'Estep': 1631, 'Mishina': 1632, 'Lavrentiev': 1633, 'Kilgour': 1634, 'Sheppard': 1635, 'Nnanna': 1636, 'Norris': 1637, 'Chidiebere': 1638, 'Okwukwe': 1639, 'Elliott': 1640, 'Walsh': 1641, 'Mahomed': 1642, 'Bogdanov': 1643, 'Moysey': 1644, 'Angel': 1645, 'Toosey': 1646, 'Hassall': 1647, 'Poninski': 1648, 'Bonham': 1649, 'Bold': 1650, 'Izmailov': 1651, 'Valentin': 1652, 'McIver': 1653, 'Fishbourne': 1654, 'Chukwueloka': 1655, 'Real': 1656, 'Odell': 1657, 'Enticknap': 1658, 'Mann': 1659, 'Adams': 1660, 'Hirst': 1661, 'Horan': 1662, 'Cumbrae-Stewart': 1663, 'Kinney': 1664, 'Nina': 1665, 'Mort': 1666, 'Martinez': 1667, 'Vasilyev': 1668, 'Lacross': 1669, 'Maughan': 1670, 'Tochukwu': 1671, 'Slate': 1672, 'Chiebuka': 1673, 'Berry': 1674, 'Boylan': 1675, 'Warren': 1676, 'Liston': 1677, 'Mazure': 1678, 'Rudduck': 1679, 'Darwin': 1680, 'Tomlinson': 1681, 'Coates': 1682, 'Hickey': 1683, 'Stobie': 1684, 'Drakeford': 1685, 'Bermudez': 1686, 'Wyatt': 1687, 'Blackwood': 1688, 'Storey': 1689, 'Glasgow': 1690, 'Crotty': 1691, 'Hysell': 1692, 'Compton': 1693, 'See': 1694, 'Threatt': 1695, 'Davies': 1696, 'Matlock': 1697, 'Chiedozie': 1698, 'Adamson': 1699, 'Mishin': 1700, 'Bull': 1701, 'Serra': 1702, 'Summerville': 1703, 'Astorga': 1704, 'Blesing': 1705, 'Nevzorova': 1706, 'Sheehan': 1707, 'McElhone': 1708, 'Chigbogu': 1709, 'Tilley': 1710, 'McCartney': 1711, 'Badgery': 1712, 'Zarate': 1713, 'Congreve': 1714, 'Hayslett': 1715, 'Loving': 1716, 'Ugonnatubelum': 1717, 'Corbett': 1718, 'Eiland': 1719, 'Labrador': 1720, 'Dettmann': 1721, 'Hope': 1722, 'Ives': 1723, 'Brierly': 1724, 'Rapuokwu': 1725, 'Senior': 1726, 'Garmon': 1727, 'Biryukova': 1728, 'Hutcheon': 1729, 'Bateman': 1730, 'Haugh': 1731, 'Micklem': 1732, 'Kegley': 1733, 'Valenzuela': 1734, 'Fomina': 1735, 'Dixon': 1736, 'Belov': 1737, 'Cross': 1738, 'Cullen': 1739, 'Rudd': 1740, 'Gidney': 1741, 'Dalton': 1742, 'Hartzler': 1743, 'Lambert': 1744, 'Game': 1745, 'Haynes': 1746, 'Jimenez': 1747, 'Pharr': 1748, 'Jerger': 1749, 'Ramsden': 1750, 'Jowett': 1751, 'Venables': 1752, 'Monnier': 1753, 'Gadsden': 1754, 'Oster': 1755, 'Chizoba': 1756, 'Peyser': 1757, 'Seleznev': 1758, 'Alleyne': 1759, 'Zikoranachukwudimma': 1760, 'Ejikemeifeuwa': 1761, 'Rickard': 1762, 'Andreev': 1763, 'Shand': 1764, 'Stehle': 1765, 'Belonwu': 1766, 'Baker': 1767, 'Garcia': 1768, 'Field': 1769, 'Jefferies': 1770, 'Lockyer': 1771, 'Torreggiani': 1772, 'Richards': 1773, 'Herbert': 1774, 'Andreyeva': 1775, 'Bowen': 1776, 'Fowler': 1777, 'Lockett': 1778, 'Phelps': 1779, 'Frederick': 1780, 'Carlson': 1781, 'Mbadiwe': 1782, 'Sabbatini': 1783, 'Ewers': 1784, 'Hannam': 1785, 'Mofflin': 1786, 'Ifeanacho': 1787, 'Maitland': 1788, 'Pollard': 1789, 'Brigstocke': 1790, 'Gboliwe': 1791, 'Seleznyova': 1792, 'Joseph': 1793, 'Salier': 1794, 'Evdokimov': 1795, 'Ponomaryova': 1796, 'Grosse': 1797, 'Belbin': 1798, 'Titheradge': 1799, 'Hobbs': 1800, 'Beggs': 1801, 'Luffman': 1802, 'Evseev': 1803, 'Hagins': 1804, 'Kirwan': 1805, 'Milligan': 1806, 'Royster': 1807, 'Gouger': 1808, 'Ignatyev': 1809, 'Munz': 1810, 'Paling': 1811, 'Clancy': 1812, 'Rios': 1813, 'Onyemauchechi': 1814, 'Nkemakonam': 1815, 'Kirillov': 1816, 'Stiles': 1817, 'Gaffney': 1818, 'Tsui': 1819, 'Armit': 1820, 'Ramsbotham': 1821, 'Scannell': 1822, 'Edman': 1823, 'Shaver': 1824, 'Coupp': 1825, 'Bezrukova': 1826, 'Cohn': 1827, 'Lay': 1828, 'Schmidt': 1829, 'Hussey': 1830, 'Macfarlan': 1831, 'Szabados': 1832, 'McKelvey': 1833, 'McConnell': 1834, 'Iheatu': 1835, 'Winifred': 1836, 'Holmes': 1837, 'Riddle': 1838, 'McClemans': 1839, 'Basedow': 1840, 'Nwora': 1841, 'Howey': 1842, 'Kramer': 1843, 'Reynolds': 1844, 'Herrin': 1845, 'Newland': 1846, 'Demaine': 1847, 'Harewood': 1848, 'Bischof': 1849, 'Uren': 1850, 'Ruggiero': 1851, 'Wilding': 1852, 'Yashina': 1853, 'Yevseyev': 1854, 'Maslov': 1855, 'Sullivan': 1856, 'Allsop': 1857, 'Castles': 1858, 'Colbert': 1859, 'Chimezie': 1860, 'Daluchi': 1861, 'Sheffield': 1862, 'Dyson': 1863, 'Onwuka': 1864, 'Flores': 1865, 'Nicoll': 1866, 'Waters': 1867, 'Raynor': 1868, 'Eberegbulam': 1869, 'Micco': 1870, 'Avdeev': 1871, 'Bremer': 1872, 'Gadsdon': 1873, 'Hicks': 1874, 'Logan': 1875, 'Weber': 1876, 'Schnaars': 1877, 'Algarin': 1878, 'Metcalf': 1879, 'Lupton': 1880, 'Ibeamaka': 1881, 'Rueda': 1882, 'Madueke': 1883, 'Torres': 1884, 'Chukwubuikem': 1885, 'Semmens': 1886, 'Bogdanova': 1887, 'Corser': 1888, 'McCardle': 1889, 'Radcliffe-Brown': 1890, 'Chukwumaobim': 1891, 'Cardus': 1892, 'Whitehouse': 1893, 'McCulloch': 1894, 'Koo': 1895, 'Woolnough': 1896, 'Vinogradov': 1897, 'Snider': 1898, 'Isayeva': 1899, 'Moreno': 1900, 'Gill': 1901, 'Vaguine': 1902, 'Toomey': 1903, 'Bonwick': 1904, 'Middleton': 1905, 'Vale': 1906, 'Arkwookerum': 1907, 'Lujan': 1908, 'Gannon': 1909, 'Romero': 1910, 'Onwuamaegbu': 1911, 'Peacock': 1912, 'Barese': 1913, 'Nnaemeka': 1914, 'Efimov': 1915, 'Maynard': 1916, 'Zotova': 1917, 'Hannah': 1918, 'Cartagena': 1919, 'Victor': 1920, 'Krawczyk': 1921, 'Abel': 1922, 'Cavill': 1923, 'Renwick': 1924, 'Linton': 1925, 'Langlands': 1926, 'Sykes': 1927, 'Kryukov': 1928, 'Donnelly': 1929, 'Boucaut': 1930, 'Silva': 1931, 'Iweobiegbunam': 1932, 'Zito': 1933, 'Edmondstone': 1934, 'Georg': 1935, 'Michelides': 1936, 'Chidimma': 1937, 'Edmund la Touche': 1938, 'Belousov': 1939, 'McCane': 1940, 'Parry-Okeden': 1941, 'Aldrich': 1942, 'Shillito': 1943, 'Ikechukwu': 1944, 'Kauffmann': 1945, 'Bock': 1946, 'Brewer': 1947, 'Yermakova': 1948, 'Jacka': 1949, 'Sharp': 1950, 'Atherton': 1951, 'Cookson': 1952, 'Hort': 1953, 'Zaytseva': 1954, 'Diehl': 1955, 'Mead': 1956, 'Nicholson': 1957, 'Huddart': 1958, 'Swain': 1959, 'Brient': 1960, 'Tucker': 1961, 'Izmailova': 1962, 'Hutchinson': 1963, 'Okwuoma': 1964, 'Amadi': 1965, 'Percy': 1966, 'Floyd': 1967, 'Melendez': 1968, 'Kovaleva': 1969, 'Chukwuma': 1970, 'Gilroy': 1971, 'Hearn': 1972, 'Swanson': 1973, 'Benjamin': 1974, 'Ryrie': 1975, 'Montemayor': 1976, 'Izuchukwu': 1977, 'Herring': 1978, 'Duffy': 1979, 'Chiefo': 1980, 'Fyodorov': 1981, 'Palmerston': 1982, 'Polyakov': 1983, 'Connor': 1984, 'Chester': 1985, 'Denisova': 1986, 'Clogstoun': 1987, 'Kalinina': 1988, 'Bennet': 1989, 'Hallahan': 1990, 'Louis': 1991, 'Trouette': 1992, 'Cribb': 1993, 'Fletcher': 1994, 'Corson': 1995, 'Hinton': 1996, 'Bromby': 1997, 'Nweke': 1998, 'Batty': 1999, 'Agafonova': 2000, 'Chidumaga': 2001, 'Birk': 2002, 'Childs': 2003, 'Obioma': 2004, 'Stetson': 2005, 'Waring': 2006, 'Thao': 2007, 'Armfield': 2008, 'Panina': 2009, 'Martel': 2010, 'Buddicom': 2011, 'Walters': 2012, 'Muravyova': 2013, 'Keen': 2014, 'Liebe': 2015, 'Rogova': 2016, 'Raff': 2017, 'Kanayochukwu': 2018, 'Guerin': 2019, 'Dominguez': 2020, 'Pugh': 2021, 'Sawtell': 2022, 'Kharitonova': 2023, 'Muramats': 2024, 'Sokolov': 2025, 'Gay': 2026, 'Maurer': 2027, 'Grieve': 2028, 'Lowell': 2029, 'Philipp': 2030, 'Dynon': 2031, 'Bishop': 2032, 'Rene': 2033, 'Daigle': 2034, 'Joshua': 2035, 'Cochran': 2036, 'Bibb': 2037, 'Corran': 2038, 'Lovely': 2039, 'Plascencia': 2040, 'Zotov': 2041, 'Lynch': 2042, 'McCarthy': 2043, 'Nnabuife': 2044, 'Tinline': 2045, 'Esomchi': 2046, 'Retana': 2047, \"O'Loughlin\": 2048, 'Gorman': 2049, 'Finch': 2050, 'Reyes': 2051, 'Downie': 2052, 'Yegorov': 2053, 'Cantrell': 2054, 'Glennon': 2055, 'Yancy': 2056, 'Cruz': 2057, 'Bukowski': 2058, 'Chikwendu': 2059, 'Kharlamova': 2060, 'Diaz': 2061, 'Ross-Watt': 2062, 'Shubin': 2063, 'Sadler': 2064, 'Whittaker': 2065, 'Gratwick': 2066, 'Bovee': 2067, 'Frolova': 2068, 'Bradshaw': 2069, 'Clunie': 2070, 'Cover': 2071, 'Hodgson': 2072, 'Harvey': 2073, 'Chase': 2074, 'Aparicio': 2075, 'Udegbunam': 2076, 'Alexandrov': 2077, 'Campos': 2078, 'McKinnon': 2079, 'Burt': 2080, 'Feetham': 2081, 'Coburn': 2082, 'Yegorova': 2083, 'Corones': 2084, 'Morrice': 2085, 'Barrett': 2086, 'Tardent': 2087, 'Castillo': 2088, 'Lindsay': 2089, 'Macnamara': 2090, 'Aksakova': 2091, 'Farnsworth': 2092, 'Koch': 2093, 'Fleetwood-Smith': 2094, 'Chinonyelum': 2095, 'Montague': 2096, 'Yewen': 2097, 'Kalinin': 2098, 'Woodward': 2099, 'Iweobiegbulam': 2100, 'Burton': 2101, 'Schwartz': 2102, 'Sargent': 2103, 'Kepley': 2104, 'Lassetter': 2105, 'Iloerika': 2106, 'Michel': 2107, 'Goodwin': 2108, 'Rapuluolisa': 2109, 'Osorio': 2110, 'Barnett': 2111, 'Pike': 2112, 'Gearheart': 2113, 'Egobudike': 2114, 'Ahern': 2115, 'Anayochukwu': 2116, 'Nevels': 2117, 'Winn': 2118, 'Lopez': 2119, 'Steen': 2120, 'Pipes': 2121, 'Windsor': 2122, 'Wark': 2123, 'Allnutt': 2124, 'Pedder': 2125, 'Chialuka': 2126, 'Selwyn': 2127, 'Koger': 2128, 'Kendall': 2129, 'Elliot': 2130, 'Gratton': 2131, 'Carandini': 2132, 'Barker': 2133, 'Korff': 2134, 'Kiernan': 2135, 'Mathews': 2136, 'Macrossan': 2137, 'Illingworth': 2138, 'Menhennitt': 2139, 'Shoebridge': 2140, 'Eva': 2141, 'Howe': 2142, 'Belisario': 2143, 'Pomeroy': 2144, 'Schaffer': 2145, 'Gonzalez': 2146, 'Temple': 2147, 'Ridley': 2148, 'Slye': 2149, 'Takasuka': 2150, 'Bruche': 2151, 'Ryan': 2152, 'Abramova': 2153, 'Purdy': 2154, 'Higgins': 2155, 'Reye': 2156, 'Willoughby': 2157, 'Mayne': 2158, 'Paramor': 2159, 'Daly': 2160, 'Gorshkov': 2161, 'McClinton': 2162, 'Holbrook': 2163, 'Solomina': 2164, 'Faulk': 2165, 'Forster': 2166, 'Chamberlin': 2167, 'Buttenshaw': 2168, 'Nazarova': 2169, 'Merrett': 2170, 'Elder': 2171, 'Gunson': 2172, 'Gleeson': 2173, 'Lang': 2174, 'Eve': 2175, 'Stradford': 2176, 'Brownlow': 2177, 'Fyans': 2178, 'Creel': 2179, 'Nicolay': 2180, 'Somerville': 2181, 'Pauley': 2182, 'Goering': 2183, 'Maduabuchim': 2184, 'Linger': 2185, 'Kenechukwu': 2186, 'Learmonth': 2187, 'Fitzgerald': 2188, 'Duggan': 2189, 'Krischock': 2190, 'Binder': 2191, 'Zubarev': 2192, 'Coleman': 2193, 'Molineux': 2194, 'Duigan': 2195, 'Jobson': 2196, 'Perreault': 2197, 'Algeranoff': 2198, 'Galloway': 2199, 'Arrington': 2200, 'Kamdibe': 2201, 'Cousens': 2202, 'Hawks': 2203, 'Thynne': 2204, 'Greenwood': 2205, 'Ogle': 2206, 'Wolfe': 2207, 'Dilibe': 2208, 'Austin': 2209, 'Santiago': 2210, 'Afanasyeva': 2211, 'Priestley': 2212, 'Salmond': 2213, 'Goloubev': 2214, 'Dipietro': 2215, 'Niehaus': 2216, 'Barclay-Harvey': 2217, 'Hartung': 2218, 'Sternberg': 2219, 'Shepherd': 2220, 'Marcum': 2221, 'North': 2222, 'Whitelegge': 2223, 'Rooke': 2224, 'Horsley': 2225, 'Eskridge': 2226, 'Claiborne': 2227, 'Ibrahimov': 2228, 'Enriquez': 2229, 'Gilleland': 2230, 'Fullwood': 2231, 'Doyne': 2232, 'Rawling': 2233, 'Ankudinova': 2234, 'Balsillie': 2235, 'Worsnop': 2236, 'Buda': 2237, 'Broadhurst': 2238, 'Garrett': 2239, 'Edwards': 2240, 'Logue': 2241, 'Rechner': 2242, 'Batt': 2243, 'Trujillo': 2244, 'Ash': 2245, 'Kumm': 2246, 'Carey': 2247, 'Farber': 2248, 'Edments': 2249, 'Lindon': 2250, 'Pitcher': 2251, 'Kable': 2252, 'Kulikova': 2253, 'Navarrete': 2254, 'Huguley': 2255, 'Massie': 2256, 'Onwubiko': 2257, 'Obiora': 2258, 'Slater': 2259, 'Menkens': 2260, 'Beatham': 2261, 'Dowse': 2262, 'Griffen': 2263, 'Uvarov': 2264, 'Hussain': 2265, 'Grigoryeva': 2266, 'Gunter': 2267, 'Collee': 2268, 'Ibekwe': 2269, 'Hairston': 2270, 'Abdulov': 2271, 'Perkin': 2272, 'Bond': 2273, 'Stirling': 2274, 'Rutledge': 2275, 'Mullah': 2276, 'Candler': 2277, 'Hollis': 2278, 'Lionel': 2279, 'Serena': 2280, 'Cummins': 2281, 'Zhdanov': 2282, 'Peck': 2283, 'Gerald': 2284, 'Nebeuwa': 2285, 'Maruff': 2286, 'Knepper': 2287, 'Hand': 2288, 'Chidi': 2289, 'Maxwell': 2290, 'Berkeley': 2291, 'Kaur': 2292, 'Mountgarrett': 2293, 'Wreford': 2294, 'Bolton': 2295, 'Corrie': 2296, 'Lambie': 2297, 'Streeton': 2298, 'Pennington': 2299, 'Ansell': 2300, 'Stokes': 2301, 'Ampt': 2302, 'Wynn': 2303, 'Wagner': 2304, 'Argyle': 2305, 'Locke': 2306, 'Bullen': 2307, 'Munson': 2308, 'Cooke': 2309, 'Hawes': 2310, 'Swanton': 2311, 'Shipp': 2312, 'Jonathan': 2313, 'Hernandez': 2314, 'Highland': 2315, 'Peel': 2316, 'Herz': 2317, 'Salas': 2318, 'Laney': 2319, 'Messersmith': 2320, 'Etheridge': 2321, 'Jolly': 2322, 'Botts': 2323, 'Fink': 2324, 'Morehead': 2325, 'Balashova': 2326, 'Lowe': 2327, 'Ponce': 2328, 'Zuyeva': 2329, 'Chukwujamuike': 2330, 'Flynn': 2331, 'Klein': 2332, 'Shcherbakov': 2333, 'Sokolova': 2334, 'Mosley': 2335, 'Everett': 2336, 'Rouse': 2337, 'Burrows': 2338, 'Artyomova': 2339, 'Yermolayeva': 2340, 'Le Hunte': 2341, 'Blake': 2342, 'Sparks': 2343, 'Northern': 2344, 'Jack': 2345, 'Secombe': 2346, 'Ugorji': 2347, 'Bancks': 2348, 'Fairley': 2349, 'Boothby': 2350, 'Chukwuhaenye': 2351, 'Lock': 2352, 'Ramsey': 2353, 'Eipper': 2354, 'Fernandez': 2355, 'Yermolayev': 2356, 'Kolesnikova': 2357, 'Sharwood': 2358, 'Bufkin': 2359, 'Neitenstein': 2360, 'Sandover': 2361, 'Sergeyeva': 2362, 'Bales': 2363, 'Romilly': 2364, 'Lawson': 2365, 'Bracewell': 2366, 'Torkelson': 2367, 'Hightower': 2368, 'Levan': 2369, 'Loginov': 2370, 'Lafleur': 2371, 'Miranda': 2372, 'Simon': 2373, 'Golubeva': 2374, 'Stange': 2375, 'Milliner': 2376, 'Swinton': 2377, 'Sukhorukova': 2378, 'Combes': 2379, 'Carruthers': 2380, \"O'Loghlin\": 2381, 'Troupe': 2382, 'Deleon': 2383, 'Downer': 2384, 'Bochsa': 2385, 'Czajkowski': 2386, 'Pankhurst': 2387, 'Birdseye': 2388, 'Moon': 2389, 'Chuter': 2390, 'Nielson': 2391, 'Ajuluchukwu': 2392, 'Board': 2393, 'Leckie': 2394, 'Cayley': 2395, 'Kuykendall': 2396, 'Ukaegbulam': 2397, 'Onwuemelie': 2398, 'Clendinnen': 2399, 'Mactier': 2400, 'Lipton': 2401, 'Levy': 2402, 'Amies': 2403, 'Aliyev': 2404, 'Langler': 2405, 'Pye': 2406, 'Asher': 2407, 'Major': 2408, 'Halpern': 2409, 'Nyhan': 2410, 'Birdsall': 2411, 'Mackie': 2412, 'Vinogradoff': 2413, 'Pokrovskaya': 2414, 'Moroney': 2415, 'Spence': 2416, 'Cherkasova': 2417, 'Crocker': 2418, 'Polyakova': 2419, 'Cantamessa': 2420, 'Teakle': 2421, 'Challis': 2422, 'Dodgshun': 2423, 'Blackall': 2424, 'Schoenheimer': 2425, 'Bromley': 2426, 'Shubina': 2427, 'Kinder': 2428, 'Shepherdson': 2429, 'Burson': 2430, 'Hopwood': 2431, 'Lindeman': 2432, 'McKinley': 2433, 'Sanchez': 2434, 'Muomelu': 2435, 'McVey': 2436, 'McKissick': 2437, 'Horsfall': 2438, 'Clapp': 2439, 'MacDonnell': 2440, 'Ermakov': 2441, 'Peppin': 2442, 'Fontenot': 2443, 'Howarth': 2444, 'Gentry': 2445, 'Sunderland': 2446, 'Knorr': 2447, 'Chimaraoke': 2448, 'Frederickson': 2449, 'Pickworth': 2450, 'McGill': 2451, 'Sarratt': 2452, 'Leworthy': 2453, 'Rivero': 2454, 'Hornung': 2455, 'Barnet': 2456, 'Dennys': 2457, 'Salter': 2458, 'Lazar': 2459, 'Onyenachiya': 2460, 'McCawley': 2461, 'Teague': 2462, 'Nekrasova': 2463, 'Carroll': 2464, 'Landor': 2465, 'Wardell': 2466, 'Ali': 2467, 'Somayina': 2468, 'Ruiz': 2469, 'Waterhouse': 2470, 'Jara': 2471, \"O'Callaghan\": 2472, 'Pease': 2473, 'Lavrentyev': 2474, 'Hobson': 2475, 'Lappin': 2476, 'Travis': 2477, 'Jefferson': 2478, 'Begley': 2479, 'Levien': 2480, 'Erskine': 2481, 'Monds': 2482, 'Castro': 2483, 'Voronova': 2484, 'Dietz': 2485, 'Voronoff': 2486, 'Trevascus': 2487, 'Durant': 2488, 'Chigozie': 2489, 'Ardis': 2490, 'Butler': 2491, 'Pettry': 2492, 'Elmore': 2493, 'Voronkov': 2494, 'Garland': 2495, 'Ndubuagha': 2496, 'Duke': 2497, 'Bradbury': 2498, 'Bayley': 2499, 'Cremin': 2500, 'Gilchrist': 2501, 'Fitzpatrick': 2502, 'Pagan': 2503, 'Hendrick': 2504, 'Harding': 2505, 'Burfitt': 2506, 'Nieves': 2507, 'Bruny': 2508, 'Felix': 2509, 'Rippey': 2510, 'Converse': 2511, 'Bogolyubova': 2512, 'Remington': 2513, 'Levi': 2514, 'Bennetts': 2515, 'Vachon': 2516, 'Upjohn': 2517, 'Marcus': 2518, 'Alvares': 2519, 'McDavid': 2520, 'Brothers': 2521, 'Molle': 2522, 'Galgano': 2523, 'Raymond': 2524, 'Brodney': 2525, 'Afanasyev': 2526, 'Meagher': 2527, 'McGuffog': 2528, 'Sargood': 2529, 'Harrington': 2530, 'Lorenzen': 2531, 'Vidler': 2532, 'Allingham': 2533, 'Stelzer': 2534, 'Rubin': 2535, 'Harrell': 2536, 'Welsh': 2537, 'Sousa': 2538, 'Obijiaku': 2539, 'Mullen': 2540, 'Howell': 2541, 'Clifton': 2542, 'Rees': 2543, 'Onwughara': 2544, 'Geoghegan': 2545, 'Ilyina': 2546, 'Quezada': 2547, 'Tobeolisa': 2548, 'Akudinobi': 2549, 'Flemming': 2550, 'Azarov': 2551, 'Chill': 2552, 'Dumolo': 2553, 'Wetherspoon': 2554, 'Hampton': 2555, 'Ireland': 2556, 'Hibbins': 2557, 'Lea': 2558, 'Singleton': 2559, 'Sauve': 2560, 'Eidson': 2561, 'Melvin': 2562, 'Dawkins': 2563, 'Rita': 2564, 'Woolacott': 2565, 'Service': 2566, 'Dancy': 2567, 'Hankinson': 2568, 'Afamefula': 2569, 'Sherrod': 2570, 'Barling': 2571, 'Hobler': 2572, 'Bair': 2573, 'Drury': 2574, 'Beale': 2575, 'McMinn': 2576, 'Hajek': 2577, 'Mays': 2578, 'Swayne': 2579, 'Fennescey': 2580, 'Colon': 2581, 'Lederer': 2582, 'Cecil': 2583, 'Manners': 2584, 'Wynne': 2585, 'Disher': 2586, 'Yocum': 2587, 'Lowrie': 2588, 'Lavarack': 2589, 'Gomes': 2590, 'Gibney': 2591, 'Foran': 2592, 'Wyckoff': 2593, 'Soares': 2594, 'Kenechi': 2595, 'Becher': 2596, 'Runyon': 2597, 'Dobbs': 2598, 'Foveaux': 2599, 'Currey': 2600, 'Nicholas': 2601, 'Foster': 2602, 'Edmondson': 2603, 'Ah Mouy': 2604, 'Blue': 2605, 'Sievier': 2606, 'Watterston': 2607, 'Butters': 2608, 'Weaver': 2609, 'Earl': 2610, 'Begg': 2611, 'McNaughtan': 2612, 'Reagan': 2613, 'Bancroft': 2614, 'Band': 2615, 'Sandefur': 2616, 'Cone': 2617, 'Liardet': 2618, 'Wilkes': 2619, 'Patel': 2620, 'Howell-Price': 2621, 'Rowland': 2622, 'Barnard': 2623, 'Pendred': 2624, 'Samaniego': 2625, 'Burgos': 2626, 'Spinelli': 2627, 'Peavy': 2628, 'Lindell': 2629, 'Sorenson': 2630, 'Cockett': 2631, 'Galkina': 2632, 'Spears': 2633, 'Hardacre': 2634, 'Wakelin': 2635, 'Shah': 2636, 'Combs': 2637, 'Mayrhofer': 2638, 'Yefremov': 2639, 'Kosovich': 2640, 'Taplin': 2641, 'Yefimov': 2642, 'Hales': 2643, 'Copeland': 2644, 'Rishel': 2645, 'Larkin': 2646, 'Eddy': 2647, 'Sells': 2648, 'Bezrukov': 2649, 'St Clair': 2650, 'Lockington': 2651, 'Weston': 2652, 'Groom': 2653, 'Cambage': 2654, 'Burdekin': 2655, 'Franz': 2656, 'Morant': 2657, 'Loton': 2658, 'Sani': 2659, 'Von Doussa': 2660, 'Miracle': 2661, 'Burtch': 2662, 'McLachlan': 2663, 'Wenz': 2664, 'Kisch': 2665, 'Newman': 2666, 'Ndubuisi': 2667, 'Plummer': 2668, 'Ershova': 2669, 'Brookman': 2670, 'McBurney': 2671, 'Mickey': 2672, 'Olszewski': 2673, 'Chijioke': 2674, 'Bellasis': 2675, 'De Mestre': 2676, 'Mundy': 2677, 'Donahue': 2678, 'Verjus': 2679, 'Spaull': 2680, 'Voronina': 2681, 'Crumbley': 2682, 'Birch': 2683, 'Custance': 2684, 'Marshall-Hall': 2685, 'More': 2686, 'Bazile': 2687, 'Wardle': 2688, 'Lilly': 2689, 'Medland': 2690, 'Denman': 2691, 'Ratten': 2692, 'Abron': 2693, 'Belcher': 2694, 'Abernathy': 2695, 'Pape': 2696, 'Earle': 2697, 'Coombes': 2698, 'Hopman': 2699, 'Trejo': 2700, 'Macknight': 2701, 'Glossop': 2702, 'Chalmers': 2703, 'Picot': 2704, 'Neumayer': 2705, 'Yip': 2706, 'Ingle': 2707, 'Coffey': 2708, 'Istomin': 2709, 'Fernando': 2710, 'McClaran': 2711, 'Townsley': 2712, 'Mueller': 2713, 'Madukaife': 2714, 'Abdullah': 2715, 'Caraway': 2716, 'Loane': 2717, 'Geach': 2718, 'Charteris': 2719, 'Descoteaux': 2720, 'Crump': 2721, 'Diggs': 2722, 'Carvosso': 2723, 'Furneaux': 2724, 'Nickson': 2725, 'Highett': 2726, 'Rendall': 2727, 'Allardyce': 2728, 'Weatherford': 2729, 'Chong': 2730, 'Alvarez': 2731, 'Pritchard': 2732, 'Rawlings': 2733, 'Truscott': 2734, 'Willmore': 2735, 'Godson': 2736, 'Bitter': 2737, 'Forlonge': 2738, 'Reyna': 2739, 'Tran': 2740, 'Otoole': 2741, 'Kane': 2742, 'Isaacs': 2743, 'Timperley': 2744, 'Christopher': 2745, 'Lawley': 2746, 'Whitson': 2747, 'Wimble': 2748, 'Fermin': 2749, 'Fadden': 2750, 'Zox': 2751, 'Landseer': 2752, 'Jenks': 2753, 'Crace': 2754, 'Packham': 2755, 'Emenike': 2756, 'Nero': 2757, 'Haddon': 2758, 'Slone': 2759, 'Dann': 2760, 'Hooker': 2761, 'Kistler': 2762, 'Leason': 2763, 'Bruner': 2764, 'Rubeo': 2765, 'Claypool': 2766, 'Walpole': 2767, 'Steigrad': 2768, 'Hixson': 2769, 'Laura': 2770, 'Hendley': 2771, 'Birnie': 2772, 'Montgomery': 2773, 'Gamble': 2774, 'Chifo': 2775, 'Michael': 2776, 'Quesada': 2777, 'Wunder': 2778, 'Burlingame': 2779, 'Kesteven': 2780, 'Abrego': 2781, 'Parrott': 2782, 'Zinachukwudi': 2783, 'Keane': 2784, 'McCollum': 2785, 'Gambrell': 2786, 'Rieke': 2787, 'Cawood': 2788, 'Yelverton': 2789, 'Mault': 2790, 'Frewin': 2791, 'Royston': 2792, 'Wearing': 2793, 'Suttor': 2794, 'Catchpole': 2795, 'Siddons': 2796, 'Arbour': 2797, 'Hingston': 2798, 'Sacco': 2799, 'Robb': 2800, 'Ochoa': 2801, 'Richmond': 2802, 'Nworie': 2803, 'Wentcher': 2804, 'Hayes-Williams': 2805, 'Cairns': 2806, 'Schatz': 2807, 'Stanton': 2808, 'Ramirez': 2809, 'Bryan': 2810, 'Mullawirraburka': 2811, 'Chubb': 2812, 'Huggins': 2813, 'Cowen': 2814, 'Kaleski': 2815, 'Sugden': 2816, 'Beck': 2817, 'Beam': 2818, 'Haworth': 2819, 'Guidry': 2820, 'Maher': 2821, 'Rapuluchukwu': 2822, 'Cyril': 2823, 'Laidley': 2824, 'McNeill': 2825, 'Kentish': 2826, 'Persse': 2827, 'Chukwujekwu': 2828, 'Ham': 2829, 'Paten': 2830, 'Esquivel': 2831, 'Sidorova': 2832, 'Santana': 2833, 'Mironov': 2834, 'Ruse': 2835, 'Palfreyman': 2836, 'Webster': 2837, 'Cardell': 2838, 'Lennox': 2839, 'Meldrum': 2840, 'Vidal': 2841, 'Veale': 2842, 'Kershaw': 2843, 'Vanzetti': 2844, 'Boone': 2845, 'Nagy': 2846, 'Lehr': 2847, 'Upchurch': 2848, 'Woodhouse': 2849, 'Toth': 2850, 'Ingamells': 2851, 'Overby': 2852, 'Chifley': 2853, 'Rodriguez': 2854, 'Kingsley': 2855, 'Gosnell': 2856, 'Gearhart': 2857, 'Seccombe': 2858, 'Rounsevell': 2859, 'Stoneman': 2860, 'Moody': 2861, 'Keldie': 2862, 'Defalco': 2863, 'Tillman': 2864, 'Beede': 2865, 'Sadlier': 2866, 'Bozeman': 2867, 'Shelby': 2868, 'Marian': 2869, 'Fane': 2870, 'Caffyn': 2871, 'Dahlenburg': 2872, 'Olson': 2873, 'Andersen': 2874, 'Mackinlay': 2875, 'Norriss': 2876, 'Mott': 2877, 'Fokina': 2878, 'Boan': 2879, 'Topp': 2880, 'Burgoyne': 2881, 'Gebhart': 2882, 'Tudawali': 2883, 'Maconochie': 2884, 'Plumb': 2885, 'Benford': 2886, 'Cobb': 2887, 'Macadam': 2888, 'Tychonoff': 2889, 'Urban': 2890, 'Lascelles': 2891, 'Mack': 2892, 'Sneddon': 2893, 'Hopetoun': 2894, 'Faria': 2895, 'Marquez': 2896, 'Barnhill': 2897, 'Ogg': 2898, 'Wells': 2899, 'Calzada': 2900, 'Gresswell': 2901, 'Aguirre': 2902, 'Morales': 2903, 'Moffitt': 2904, 'Weigel': 2905, 'Ohearn': 2906, 'Munroe': 2907, 'Trumbull': 2908, 'Crist': 2909, \"O'Kane\": 2910, 'Lorimer': 2911, 'McDowell': 2912, 'Root': 2913, 'Saad': 2914, 'Corby': 2915, 'Dwyer': 2916, 'Flannagan': 2917, 'Sturdee': 2918, 'Hull': 2919, 'Vagin': 2920, 'Mach': 2921, 'MacPherson': 2922, 'Parks': 2923, 'Edith': 2924, 'Lajoie': 2925, 'Torode': 2926, 'Salinas': 2927, 'Cleveland': 2928, 'Kashiwagi': 2929, 'Aldridge': 2930, 'Burbidge': 2931} {'Female': 0, 'Male': 1}\n"
          ]
        }
      ],
      "source": [
        "geo_unique = df.Geography.unique()\n",
        "surname_unique = df.Surname.unique()\n",
        "gender_unique = df.Gender.unique()\n",
        "\n",
        "geo_classes = dict(zip(geo_unique, range(len(geo_unique))))\n",
        "surname_classes = dict(zip(surname_unique, range(len(surname_unique))))\n",
        "gender_classes = dict(zip(gender_unique, range(len(gender_unique))))\n",
        "\n",
        "print(geo_classes, surname_classes, gender_classes)\n",
        "\n",
        "df[\"Gender\"].replace(gender_classes,inplace = True)\n",
        "df[\"Geography\"].replace(geo_classes,inplace = True)\n",
        "df[\"Surname\"].replace(surname_classes,inplace = True)"
      ]
    },
    {
      "cell_type": "code",
      "execution_count": 95,
      "id": "ad684835",
      "metadata": {
        "colab": {
          "base_uri": "https://localhost:8080/",
          "height": 206
        },
        "id": "ad684835",
        "outputId": "e4cd7774-d7ce-4767-eea7-bb91d329d769"
      },
      "outputs": [
        {
          "output_type": "execute_result",
          "data": {
            "text/plain": [
              "   RowNumber  CustomerId  Surname  CreditScore  Geography  Gender  Age  \\\n",
              "0          1    15634602        0        619.0          0       0   42   \n",
              "1          2    15647311        1        608.0          1       0   41   \n",
              "2          3    15619304        2        502.0          0       0   42   \n",
              "3          4    15701354        3        699.0          0       0   39   \n",
              "4          5    15737888        4        850.0          1       0   43   \n",
              "\n",
              "   Tenure    Balance  NumOfProducts  HasCrCard  IsActiveMember  \\\n",
              "0       2       0.00              1          1               1   \n",
              "1       1   83807.86              1          0               1   \n",
              "2       8  159660.80              3          1               0   \n",
              "3       1       0.00              2          0               0   \n",
              "4       2  125510.82              1          1               1   \n",
              "\n",
              "   EstimatedSalary  Exited  \n",
              "0        101348.88       1  \n",
              "1        112542.58       0  \n",
              "2        113931.57       1  \n",
              "3         93826.63       0  \n",
              "4         79084.10       0  "
            ],
            "text/html": [
              "\n",
              "  <div id=\"df-7c6a455a-7351-422d-982f-57be7c7f18db\">\n",
              "    <div class=\"colab-df-container\">\n",
              "      <div>\n",
              "<style scoped>\n",
              "    .dataframe tbody tr th:only-of-type {\n",
              "        vertical-align: middle;\n",
              "    }\n",
              "\n",
              "    .dataframe tbody tr th {\n",
              "        vertical-align: top;\n",
              "    }\n",
              "\n",
              "    .dataframe thead th {\n",
              "        text-align: right;\n",
              "    }\n",
              "</style>\n",
              "<table border=\"1\" class=\"dataframe\">\n",
              "  <thead>\n",
              "    <tr style=\"text-align: right;\">\n",
              "      <th></th>\n",
              "      <th>RowNumber</th>\n",
              "      <th>CustomerId</th>\n",
              "      <th>Surname</th>\n",
              "      <th>CreditScore</th>\n",
              "      <th>Geography</th>\n",
              "      <th>Gender</th>\n",
              "      <th>Age</th>\n",
              "      <th>Tenure</th>\n",
              "      <th>Balance</th>\n",
              "      <th>NumOfProducts</th>\n",
              "      <th>HasCrCard</th>\n",
              "      <th>IsActiveMember</th>\n",
              "      <th>EstimatedSalary</th>\n",
              "      <th>Exited</th>\n",
              "    </tr>\n",
              "  </thead>\n",
              "  <tbody>\n",
              "    <tr>\n",
              "      <th>0</th>\n",
              "      <td>1</td>\n",
              "      <td>15634602</td>\n",
              "      <td>0</td>\n",
              "      <td>619.0</td>\n",
              "      <td>0</td>\n",
              "      <td>0</td>\n",
              "      <td>42</td>\n",
              "      <td>2</td>\n",
              "      <td>0.00</td>\n",
              "      <td>1</td>\n",
              "      <td>1</td>\n",
              "      <td>1</td>\n",
              "      <td>101348.88</td>\n",
              "      <td>1</td>\n",
              "    </tr>\n",
              "    <tr>\n",
              "      <th>1</th>\n",
              "      <td>2</td>\n",
              "      <td>15647311</td>\n",
              "      <td>1</td>\n",
              "      <td>608.0</td>\n",
              "      <td>1</td>\n",
              "      <td>0</td>\n",
              "      <td>41</td>\n",
              "      <td>1</td>\n",
              "      <td>83807.86</td>\n",
              "      <td>1</td>\n",
              "      <td>0</td>\n",
              "      <td>1</td>\n",
              "      <td>112542.58</td>\n",
              "      <td>0</td>\n",
              "    </tr>\n",
              "    <tr>\n",
              "      <th>2</th>\n",
              "      <td>3</td>\n",
              "      <td>15619304</td>\n",
              "      <td>2</td>\n",
              "      <td>502.0</td>\n",
              "      <td>0</td>\n",
              "      <td>0</td>\n",
              "      <td>42</td>\n",
              "      <td>8</td>\n",
              "      <td>159660.80</td>\n",
              "      <td>3</td>\n",
              "      <td>1</td>\n",
              "      <td>0</td>\n",
              "      <td>113931.57</td>\n",
              "      <td>1</td>\n",
              "    </tr>\n",
              "    <tr>\n",
              "      <th>3</th>\n",
              "      <td>4</td>\n",
              "      <td>15701354</td>\n",
              "      <td>3</td>\n",
              "      <td>699.0</td>\n",
              "      <td>0</td>\n",
              "      <td>0</td>\n",
              "      <td>39</td>\n",
              "      <td>1</td>\n",
              "      <td>0.00</td>\n",
              "      <td>2</td>\n",
              "      <td>0</td>\n",
              "      <td>0</td>\n",
              "      <td>93826.63</td>\n",
              "      <td>0</td>\n",
              "    </tr>\n",
              "    <tr>\n",
              "      <th>4</th>\n",
              "      <td>5</td>\n",
              "      <td>15737888</td>\n",
              "      <td>4</td>\n",
              "      <td>850.0</td>\n",
              "      <td>1</td>\n",
              "      <td>0</td>\n",
              "      <td>43</td>\n",
              "      <td>2</td>\n",
              "      <td>125510.82</td>\n",
              "      <td>1</td>\n",
              "      <td>1</td>\n",
              "      <td>1</td>\n",
              "      <td>79084.10</td>\n",
              "      <td>0</td>\n",
              "    </tr>\n",
              "  </tbody>\n",
              "</table>\n",
              "</div>\n",
              "      <button class=\"colab-df-convert\" onclick=\"convertToInteractive('df-7c6a455a-7351-422d-982f-57be7c7f18db')\"\n",
              "              title=\"Convert this dataframe to an interactive table.\"\n",
              "              style=\"display:none;\">\n",
              "        \n",
              "  <svg xmlns=\"http://www.w3.org/2000/svg\" height=\"24px\"viewBox=\"0 0 24 24\"\n",
              "       width=\"24px\">\n",
              "    <path d=\"M0 0h24v24H0V0z\" fill=\"none\"/>\n",
              "    <path d=\"M18.56 5.44l.94 2.06.94-2.06 2.06-.94-2.06-.94-.94-2.06-.94 2.06-2.06.94zm-11 1L8.5 8.5l.94-2.06 2.06-.94-2.06-.94L8.5 2.5l-.94 2.06-2.06.94zm10 10l.94 2.06.94-2.06 2.06-.94-2.06-.94-.94-2.06-.94 2.06-2.06.94z\"/><path d=\"M17.41 7.96l-1.37-1.37c-.4-.4-.92-.59-1.43-.59-.52 0-1.04.2-1.43.59L10.3 9.45l-7.72 7.72c-.78.78-.78 2.05 0 2.83L4 21.41c.39.39.9.59 1.41.59.51 0 1.02-.2 1.41-.59l7.78-7.78 2.81-2.81c.8-.78.8-2.07 0-2.86zM5.41 20L4 18.59l7.72-7.72 1.47 1.35L5.41 20z\"/>\n",
              "  </svg>\n",
              "      </button>\n",
              "      \n",
              "  <style>\n",
              "    .colab-df-container {\n",
              "      display:flex;\n",
              "      flex-wrap:wrap;\n",
              "      gap: 12px;\n",
              "    }\n",
              "\n",
              "    .colab-df-convert {\n",
              "      background-color: #E8F0FE;\n",
              "      border: none;\n",
              "      border-radius: 50%;\n",
              "      cursor: pointer;\n",
              "      display: none;\n",
              "      fill: #1967D2;\n",
              "      height: 32px;\n",
              "      padding: 0 0 0 0;\n",
              "      width: 32px;\n",
              "    }\n",
              "\n",
              "    .colab-df-convert:hover {\n",
              "      background-color: #E2EBFA;\n",
              "      box-shadow: 0px 1px 2px rgba(60, 64, 67, 0.3), 0px 1px 3px 1px rgba(60, 64, 67, 0.15);\n",
              "      fill: #174EA6;\n",
              "    }\n",
              "\n",
              "    [theme=dark] .colab-df-convert {\n",
              "      background-color: #3B4455;\n",
              "      fill: #D2E3FC;\n",
              "    }\n",
              "\n",
              "    [theme=dark] .colab-df-convert:hover {\n",
              "      background-color: #434B5C;\n",
              "      box-shadow: 0px 1px 3px 1px rgba(0, 0, 0, 0.15);\n",
              "      filter: drop-shadow(0px 1px 2px rgba(0, 0, 0, 0.3));\n",
              "      fill: #FFFFFF;\n",
              "    }\n",
              "  </style>\n",
              "\n",
              "      <script>\n",
              "        const buttonEl =\n",
              "          document.querySelector('#df-7c6a455a-7351-422d-982f-57be7c7f18db button.colab-df-convert');\n",
              "        buttonEl.style.display =\n",
              "          google.colab.kernel.accessAllowed ? 'block' : 'none';\n",
              "\n",
              "        async function convertToInteractive(key) {\n",
              "          const element = document.querySelector('#df-7c6a455a-7351-422d-982f-57be7c7f18db');\n",
              "          const dataTable =\n",
              "            await google.colab.kernel.invokeFunction('convertToInteractive',\n",
              "                                                     [key], {});\n",
              "          if (!dataTable) return;\n",
              "\n",
              "          const docLinkHtml = 'Like what you see? Visit the ' +\n",
              "            '<a target=\"_blank\" href=https://colab.research.google.com/notebooks/data_table.ipynb>data table notebook</a>'\n",
              "            + ' to learn more about interactive tables.';\n",
              "          element.innerHTML = '';\n",
              "          dataTable['output_type'] = 'display_data';\n",
              "          await google.colab.output.renderOutput(dataTable, element);\n",
              "          const docLink = document.createElement('div');\n",
              "          docLink.innerHTML = docLinkHtml;\n",
              "          element.appendChild(docLink);\n",
              "        }\n",
              "      </script>\n",
              "    </div>\n",
              "  </div>\n",
              "  "
            ]
          },
          "metadata": {},
          "execution_count": 95
        }
      ],
      "source": [
        "df.head()"
      ]
    },
    {
      "cell_type": "markdown",
      "id": "8dad6f20",
      "metadata": {
        "id": "8dad6f20"
      },
      "source": [
        "## 8. Split the data into dependent and independent variables."
      ]
    },
    {
      "cell_type": "markdown",
      "id": "135f4909",
      "metadata": {
        "id": "135f4909"
      },
      "source": [
        "###\n",
        "Dependent Variable :\n",
        "A dependent variable is a variable whose value depends on another variable.\n",
        "###\n",
        "Independent Variable :\n",
        "An Independent variable is a variable whose value never depends on another variable but the researcher.\n",
        "###"
      ]
    },
    {
      "cell_type": "code",
      "execution_count": 96,
      "id": "2cbe90a9",
      "metadata": {
        "id": "2cbe90a9"
      },
      "outputs": [],
      "source": [
        "y = df[\"Surname\"]"
      ]
    },
    {
      "cell_type": "code",
      "execution_count": 97,
      "id": "0c9c5288",
      "metadata": {
        "id": "0c9c5288"
      },
      "outputs": [],
      "source": [
        "x=df.drop(columns=[\"Surname\"],axis=1)"
      ]
    },
    {
      "cell_type": "code",
      "execution_count": 98,
      "id": "3da7b370",
      "metadata": {
        "colab": {
          "base_uri": "https://localhost:8080/",
          "height": 206
        },
        "id": "3da7b370",
        "outputId": "da0ded08-6e77-417c-94b5-8b6b3b71aa91"
      },
      "outputs": [
        {
          "output_type": "execute_result",
          "data": {
            "text/plain": [
              "   RowNumber  CustomerId  CreditScore  Geography  Gender  Age  Tenure  \\\n",
              "0          1    15634602        619.0          0       0   42       2   \n",
              "1          2    15647311        608.0          1       0   41       1   \n",
              "2          3    15619304        502.0          0       0   42       8   \n",
              "3          4    15701354        699.0          0       0   39       1   \n",
              "4          5    15737888        850.0          1       0   43       2   \n",
              "\n",
              "     Balance  NumOfProducts  HasCrCard  IsActiveMember  EstimatedSalary  \\\n",
              "0       0.00              1          1               1        101348.88   \n",
              "1   83807.86              1          0               1        112542.58   \n",
              "2  159660.80              3          1               0        113931.57   \n",
              "3       0.00              2          0               0         93826.63   \n",
              "4  125510.82              1          1               1         79084.10   \n",
              "\n",
              "   Exited  \n",
              "0       1  \n",
              "1       0  \n",
              "2       1  \n",
              "3       0  \n",
              "4       0  "
            ],
            "text/html": [
              "\n",
              "  <div id=\"df-5ac2dd24-a61a-4335-936a-0d15bc86ee8e\">\n",
              "    <div class=\"colab-df-container\">\n",
              "      <div>\n",
              "<style scoped>\n",
              "    .dataframe tbody tr th:only-of-type {\n",
              "        vertical-align: middle;\n",
              "    }\n",
              "\n",
              "    .dataframe tbody tr th {\n",
              "        vertical-align: top;\n",
              "    }\n",
              "\n",
              "    .dataframe thead th {\n",
              "        text-align: right;\n",
              "    }\n",
              "</style>\n",
              "<table border=\"1\" class=\"dataframe\">\n",
              "  <thead>\n",
              "    <tr style=\"text-align: right;\">\n",
              "      <th></th>\n",
              "      <th>RowNumber</th>\n",
              "      <th>CustomerId</th>\n",
              "      <th>CreditScore</th>\n",
              "      <th>Geography</th>\n",
              "      <th>Gender</th>\n",
              "      <th>Age</th>\n",
              "      <th>Tenure</th>\n",
              "      <th>Balance</th>\n",
              "      <th>NumOfProducts</th>\n",
              "      <th>HasCrCard</th>\n",
              "      <th>IsActiveMember</th>\n",
              "      <th>EstimatedSalary</th>\n",
              "      <th>Exited</th>\n",
              "    </tr>\n",
              "  </thead>\n",
              "  <tbody>\n",
              "    <tr>\n",
              "      <th>0</th>\n",
              "      <td>1</td>\n",
              "      <td>15634602</td>\n",
              "      <td>619.0</td>\n",
              "      <td>0</td>\n",
              "      <td>0</td>\n",
              "      <td>42</td>\n",
              "      <td>2</td>\n",
              "      <td>0.00</td>\n",
              "      <td>1</td>\n",
              "      <td>1</td>\n",
              "      <td>1</td>\n",
              "      <td>101348.88</td>\n",
              "      <td>1</td>\n",
              "    </tr>\n",
              "    <tr>\n",
              "      <th>1</th>\n",
              "      <td>2</td>\n",
              "      <td>15647311</td>\n",
              "      <td>608.0</td>\n",
              "      <td>1</td>\n",
              "      <td>0</td>\n",
              "      <td>41</td>\n",
              "      <td>1</td>\n",
              "      <td>83807.86</td>\n",
              "      <td>1</td>\n",
              "      <td>0</td>\n",
              "      <td>1</td>\n",
              "      <td>112542.58</td>\n",
              "      <td>0</td>\n",
              "    </tr>\n",
              "    <tr>\n",
              "      <th>2</th>\n",
              "      <td>3</td>\n",
              "      <td>15619304</td>\n",
              "      <td>502.0</td>\n",
              "      <td>0</td>\n",
              "      <td>0</td>\n",
              "      <td>42</td>\n",
              "      <td>8</td>\n",
              "      <td>159660.80</td>\n",
              "      <td>3</td>\n",
              "      <td>1</td>\n",
              "      <td>0</td>\n",
              "      <td>113931.57</td>\n",
              "      <td>1</td>\n",
              "    </tr>\n",
              "    <tr>\n",
              "      <th>3</th>\n",
              "      <td>4</td>\n",
              "      <td>15701354</td>\n",
              "      <td>699.0</td>\n",
              "      <td>0</td>\n",
              "      <td>0</td>\n",
              "      <td>39</td>\n",
              "      <td>1</td>\n",
              "      <td>0.00</td>\n",
              "      <td>2</td>\n",
              "      <td>0</td>\n",
              "      <td>0</td>\n",
              "      <td>93826.63</td>\n",
              "      <td>0</td>\n",
              "    </tr>\n",
              "    <tr>\n",
              "      <th>4</th>\n",
              "      <td>5</td>\n",
              "      <td>15737888</td>\n",
              "      <td>850.0</td>\n",
              "      <td>1</td>\n",
              "      <td>0</td>\n",
              "      <td>43</td>\n",
              "      <td>2</td>\n",
              "      <td>125510.82</td>\n",
              "      <td>1</td>\n",
              "      <td>1</td>\n",
              "      <td>1</td>\n",
              "      <td>79084.10</td>\n",
              "      <td>0</td>\n",
              "    </tr>\n",
              "  </tbody>\n",
              "</table>\n",
              "</div>\n",
              "      <button class=\"colab-df-convert\" onclick=\"convertToInteractive('df-5ac2dd24-a61a-4335-936a-0d15bc86ee8e')\"\n",
              "              title=\"Convert this dataframe to an interactive table.\"\n",
              "              style=\"display:none;\">\n",
              "        \n",
              "  <svg xmlns=\"http://www.w3.org/2000/svg\" height=\"24px\"viewBox=\"0 0 24 24\"\n",
              "       width=\"24px\">\n",
              "    <path d=\"M0 0h24v24H0V0z\" fill=\"none\"/>\n",
              "    <path d=\"M18.56 5.44l.94 2.06.94-2.06 2.06-.94-2.06-.94-.94-2.06-.94 2.06-2.06.94zm-11 1L8.5 8.5l.94-2.06 2.06-.94-2.06-.94L8.5 2.5l-.94 2.06-2.06.94zm10 10l.94 2.06.94-2.06 2.06-.94-2.06-.94-.94-2.06-.94 2.06-2.06.94z\"/><path d=\"M17.41 7.96l-1.37-1.37c-.4-.4-.92-.59-1.43-.59-.52 0-1.04.2-1.43.59L10.3 9.45l-7.72 7.72c-.78.78-.78 2.05 0 2.83L4 21.41c.39.39.9.59 1.41.59.51 0 1.02-.2 1.41-.59l7.78-7.78 2.81-2.81c.8-.78.8-2.07 0-2.86zM5.41 20L4 18.59l7.72-7.72 1.47 1.35L5.41 20z\"/>\n",
              "  </svg>\n",
              "      </button>\n",
              "      \n",
              "  <style>\n",
              "    .colab-df-container {\n",
              "      display:flex;\n",
              "      flex-wrap:wrap;\n",
              "      gap: 12px;\n",
              "    }\n",
              "\n",
              "    .colab-df-convert {\n",
              "      background-color: #E8F0FE;\n",
              "      border: none;\n",
              "      border-radius: 50%;\n",
              "      cursor: pointer;\n",
              "      display: none;\n",
              "      fill: #1967D2;\n",
              "      height: 32px;\n",
              "      padding: 0 0 0 0;\n",
              "      width: 32px;\n",
              "    }\n",
              "\n",
              "    .colab-df-convert:hover {\n",
              "      background-color: #E2EBFA;\n",
              "      box-shadow: 0px 1px 2px rgba(60, 64, 67, 0.3), 0px 1px 3px 1px rgba(60, 64, 67, 0.15);\n",
              "      fill: #174EA6;\n",
              "    }\n",
              "\n",
              "    [theme=dark] .colab-df-convert {\n",
              "      background-color: #3B4455;\n",
              "      fill: #D2E3FC;\n",
              "    }\n",
              "\n",
              "    [theme=dark] .colab-df-convert:hover {\n",
              "      background-color: #434B5C;\n",
              "      box-shadow: 0px 1px 3px 1px rgba(0, 0, 0, 0.15);\n",
              "      filter: drop-shadow(0px 1px 2px rgba(0, 0, 0, 0.3));\n",
              "      fill: #FFFFFF;\n",
              "    }\n",
              "  </style>\n",
              "\n",
              "      <script>\n",
              "        const buttonEl =\n",
              "          document.querySelector('#df-5ac2dd24-a61a-4335-936a-0d15bc86ee8e button.colab-df-convert');\n",
              "        buttonEl.style.display =\n",
              "          google.colab.kernel.accessAllowed ? 'block' : 'none';\n",
              "\n",
              "        async function convertToInteractive(key) {\n",
              "          const element = document.querySelector('#df-5ac2dd24-a61a-4335-936a-0d15bc86ee8e');\n",
              "          const dataTable =\n",
              "            await google.colab.kernel.invokeFunction('convertToInteractive',\n",
              "                                                     [key], {});\n",
              "          if (!dataTable) return;\n",
              "\n",
              "          const docLinkHtml = 'Like what you see? Visit the ' +\n",
              "            '<a target=\"_blank\" href=https://colab.research.google.com/notebooks/data_table.ipynb>data table notebook</a>'\n",
              "            + ' to learn more about interactive tables.';\n",
              "          element.innerHTML = '';\n",
              "          dataTable['output_type'] = 'display_data';\n",
              "          await google.colab.output.renderOutput(dataTable, element);\n",
              "          const docLink = document.createElement('div');\n",
              "          docLink.innerHTML = docLinkHtml;\n",
              "          element.appendChild(docLink);\n",
              "        }\n",
              "      </script>\n",
              "    </div>\n",
              "  </div>\n",
              "  "
            ]
          },
          "metadata": {},
          "execution_count": 98
        }
      ],
      "source": [
        "x.head()"
      ]
    },
    {
      "cell_type": "markdown",
      "id": "42481f0c",
      "metadata": {
        "id": "42481f0c"
      },
      "source": [
        "## 9. Scale the independent variables"
      ]
    },
    {
      "cell_type": "code",
      "execution_count": 99,
      "id": "02cbc7ae",
      "metadata": {
        "colab": {
          "base_uri": "https://localhost:8080/"
        },
        "id": "02cbc7ae",
        "outputId": "19ffaba4-8006-402c-e40d-6125eab198d2"
      },
      "outputs": [
        {
          "output_type": "execute_result",
          "data": {
            "text/plain": [
              "Index(['RowNumber', 'CustomerId', 'CreditScore', 'Geography', 'Gender', 'Age',\n",
              "       'Tenure', 'Balance', 'NumOfProducts', 'HasCrCard', 'IsActiveMember',\n",
              "       'EstimatedSalary', 'Exited'],\n",
              "      dtype='object')"
            ]
          },
          "metadata": {},
          "execution_count": 99
        }
      ],
      "source": [
        "names=x.columns\n",
        "names"
      ]
    },
    {
      "cell_type": "code",
      "execution_count": 100,
      "id": "40930ad0",
      "metadata": {
        "id": "40930ad0"
      },
      "outputs": [],
      "source": [
        "from sklearn.preprocessing import scale"
      ]
    },
    {
      "cell_type": "code",
      "execution_count": 101,
      "id": "0dd89725",
      "metadata": {
        "id": "0dd89725"
      },
      "outputs": [],
      "source": [
        "X=scale(x)"
      ]
    },
    {
      "cell_type": "code",
      "execution_count": 102,
      "id": "c3fbfa7e",
      "metadata": {
        "colab": {
          "base_uri": "https://localhost:8080/"
        },
        "id": "c3fbfa7e",
        "outputId": "55fb4033-0bef-4d9b-bcda-76c63b6c390d"
      },
      "outputs": [
        {
          "output_type": "execute_result",
          "data": {
            "text/plain": [
              "array([[-1.73187761, -0.78321342, -0.31252123, ...,  0.97024255,\n",
              "         0.02188649,  1.97716468],\n",
              "       [-1.7315312 , -0.60653412, -0.4234281 , ...,  0.97024255,\n",
              "         0.21653375, -0.50577476],\n",
              "       [-1.73118479, -0.99588476, -1.492167  , ..., -1.03067011,\n",
              "         0.2406869 ,  1.97716468],\n",
              "       ...,\n",
              "       [ 1.73118479, -1.47928179,  0.59489859, ...,  0.97024255,\n",
              "        -1.00864308,  1.97716468],\n",
              "       [ 1.7315312 , -0.11935577,  1.23009246, ..., -1.03067011,\n",
              "        -0.12523071,  1.97716468],\n",
              "       [ 1.73187761, -0.87055909,  1.43174131, ..., -1.03067011,\n",
              "        -1.07636976, -0.50577476]])"
            ]
          },
          "metadata": {},
          "execution_count": 102
        }
      ],
      "source": [
        "X"
      ]
    },
    {
      "cell_type": "code",
      "execution_count": 103,
      "id": "6dc65366",
      "metadata": {
        "colab": {
          "base_uri": "https://localhost:8080/",
          "height": 424
        },
        "id": "6dc65366",
        "outputId": "cd31d0e2-fbc4-46b7-d924-d7dbe4582e00"
      },
      "outputs": [
        {
          "output_type": "execute_result",
          "data": {
            "text/plain": [
              "      RowNumber  CustomerId  CreditScore  Geography    Gender       Age  \\\n",
              "0     -1.731878   -0.783213    -0.312521  -0.902587 -1.095988  0.293517   \n",
              "1     -1.731531   -0.606534    -0.423428   0.301665 -1.095988  0.198164   \n",
              "2     -1.731185   -0.995885    -1.492167  -0.902587 -1.095988  0.293517   \n",
              "3     -1.730838    0.144767     0.494074  -0.902587 -1.095988  0.007457   \n",
              "4     -1.730492    0.652659     2.016523   0.301665 -1.095988  0.388871   \n",
              "...         ...         ...          ...        ...       ...       ...   \n",
              "9995   1.730492   -1.177652     1.220010  -0.902587  0.912419  0.007457   \n",
              "9996   1.730838   -1.682806    -1.351013  -0.902587  0.912419 -0.373958   \n",
              "9997   1.731185   -1.479282     0.594899  -0.902587 -1.095988 -0.278604   \n",
              "9998   1.731531   -0.119356     1.230092   1.505917  0.912419  0.293517   \n",
              "9999   1.731878   -0.870559     1.431741  -0.902587 -1.095988 -1.041433   \n",
              "\n",
              "        Tenure   Balance  NumOfProducts  HasCrCard  IsActiveMember  \\\n",
              "0    -1.041760 -1.225848      -0.911583   0.646092        0.970243   \n",
              "1    -1.387538  0.117350      -0.911583  -1.547768        0.970243   \n",
              "2     1.032908  1.333053       2.527057   0.646092       -1.030670   \n",
              "3    -1.387538 -1.225848       0.807737  -1.547768       -1.030670   \n",
              "4    -1.041760  0.785728      -0.911583   0.646092        0.970243   \n",
              "...        ...       ...            ...        ...             ...   \n",
              "9995 -0.004426 -1.225848       0.807737   0.646092       -1.030670   \n",
              "9996  1.724464 -0.306379      -0.911583   0.646092        0.970243   \n",
              "9997  0.687130 -1.225848      -0.911583  -1.547768        0.970243   \n",
              "9998 -0.695982 -0.022608       0.807737   0.646092       -1.030670   \n",
              "9999 -0.350204  0.859965      -0.911583   0.646092       -1.030670   \n",
              "\n",
              "      EstimatedSalary    Exited  \n",
              "0            0.021886  1.977165  \n",
              "1            0.216534 -0.505775  \n",
              "2            0.240687  1.977165  \n",
              "3           -0.108918 -0.505775  \n",
              "4           -0.365276 -0.505775  \n",
              "...               ...       ...  \n",
              "9995        -0.066419 -0.505775  \n",
              "9996         0.027988 -0.505775  \n",
              "9997        -1.008643  1.977165  \n",
              "9998        -0.125231  1.977165  \n",
              "9999        -1.076370 -0.505775  \n",
              "\n",
              "[10000 rows x 13 columns]"
            ],
            "text/html": [
              "\n",
              "  <div id=\"df-2807863d-e3fe-445b-bdc6-54ffc4df90ef\">\n",
              "    <div class=\"colab-df-container\">\n",
              "      <div>\n",
              "<style scoped>\n",
              "    .dataframe tbody tr th:only-of-type {\n",
              "        vertical-align: middle;\n",
              "    }\n",
              "\n",
              "    .dataframe tbody tr th {\n",
              "        vertical-align: top;\n",
              "    }\n",
              "\n",
              "    .dataframe thead th {\n",
              "        text-align: right;\n",
              "    }\n",
              "</style>\n",
              "<table border=\"1\" class=\"dataframe\">\n",
              "  <thead>\n",
              "    <tr style=\"text-align: right;\">\n",
              "      <th></th>\n",
              "      <th>RowNumber</th>\n",
              "      <th>CustomerId</th>\n",
              "      <th>CreditScore</th>\n",
              "      <th>Geography</th>\n",
              "      <th>Gender</th>\n",
              "      <th>Age</th>\n",
              "      <th>Tenure</th>\n",
              "      <th>Balance</th>\n",
              "      <th>NumOfProducts</th>\n",
              "      <th>HasCrCard</th>\n",
              "      <th>IsActiveMember</th>\n",
              "      <th>EstimatedSalary</th>\n",
              "      <th>Exited</th>\n",
              "    </tr>\n",
              "  </thead>\n",
              "  <tbody>\n",
              "    <tr>\n",
              "      <th>0</th>\n",
              "      <td>-1.731878</td>\n",
              "      <td>-0.783213</td>\n",
              "      <td>-0.312521</td>\n",
              "      <td>-0.902587</td>\n",
              "      <td>-1.095988</td>\n",
              "      <td>0.293517</td>\n",
              "      <td>-1.041760</td>\n",
              "      <td>-1.225848</td>\n",
              "      <td>-0.911583</td>\n",
              "      <td>0.646092</td>\n",
              "      <td>0.970243</td>\n",
              "      <td>0.021886</td>\n",
              "      <td>1.977165</td>\n",
              "    </tr>\n",
              "    <tr>\n",
              "      <th>1</th>\n",
              "      <td>-1.731531</td>\n",
              "      <td>-0.606534</td>\n",
              "      <td>-0.423428</td>\n",
              "      <td>0.301665</td>\n",
              "      <td>-1.095988</td>\n",
              "      <td>0.198164</td>\n",
              "      <td>-1.387538</td>\n",
              "      <td>0.117350</td>\n",
              "      <td>-0.911583</td>\n",
              "      <td>-1.547768</td>\n",
              "      <td>0.970243</td>\n",
              "      <td>0.216534</td>\n",
              "      <td>-0.505775</td>\n",
              "    </tr>\n",
              "    <tr>\n",
              "      <th>2</th>\n",
              "      <td>-1.731185</td>\n",
              "      <td>-0.995885</td>\n",
              "      <td>-1.492167</td>\n",
              "      <td>-0.902587</td>\n",
              "      <td>-1.095988</td>\n",
              "      <td>0.293517</td>\n",
              "      <td>1.032908</td>\n",
              "      <td>1.333053</td>\n",
              "      <td>2.527057</td>\n",
              "      <td>0.646092</td>\n",
              "      <td>-1.030670</td>\n",
              "      <td>0.240687</td>\n",
              "      <td>1.977165</td>\n",
              "    </tr>\n",
              "    <tr>\n",
              "      <th>3</th>\n",
              "      <td>-1.730838</td>\n",
              "      <td>0.144767</td>\n",
              "      <td>0.494074</td>\n",
              "      <td>-0.902587</td>\n",
              "      <td>-1.095988</td>\n",
              "      <td>0.007457</td>\n",
              "      <td>-1.387538</td>\n",
              "      <td>-1.225848</td>\n",
              "      <td>0.807737</td>\n",
              "      <td>-1.547768</td>\n",
              "      <td>-1.030670</td>\n",
              "      <td>-0.108918</td>\n",
              "      <td>-0.505775</td>\n",
              "    </tr>\n",
              "    <tr>\n",
              "      <th>4</th>\n",
              "      <td>-1.730492</td>\n",
              "      <td>0.652659</td>\n",
              "      <td>2.016523</td>\n",
              "      <td>0.301665</td>\n",
              "      <td>-1.095988</td>\n",
              "      <td>0.388871</td>\n",
              "      <td>-1.041760</td>\n",
              "      <td>0.785728</td>\n",
              "      <td>-0.911583</td>\n",
              "      <td>0.646092</td>\n",
              "      <td>0.970243</td>\n",
              "      <td>-0.365276</td>\n",
              "      <td>-0.505775</td>\n",
              "    </tr>\n",
              "    <tr>\n",
              "      <th>...</th>\n",
              "      <td>...</td>\n",
              "      <td>...</td>\n",
              "      <td>...</td>\n",
              "      <td>...</td>\n",
              "      <td>...</td>\n",
              "      <td>...</td>\n",
              "      <td>...</td>\n",
              "      <td>...</td>\n",
              "      <td>...</td>\n",
              "      <td>...</td>\n",
              "      <td>...</td>\n",
              "      <td>...</td>\n",
              "      <td>...</td>\n",
              "    </tr>\n",
              "    <tr>\n",
              "      <th>9995</th>\n",
              "      <td>1.730492</td>\n",
              "      <td>-1.177652</td>\n",
              "      <td>1.220010</td>\n",
              "      <td>-0.902587</td>\n",
              "      <td>0.912419</td>\n",
              "      <td>0.007457</td>\n",
              "      <td>-0.004426</td>\n",
              "      <td>-1.225848</td>\n",
              "      <td>0.807737</td>\n",
              "      <td>0.646092</td>\n",
              "      <td>-1.030670</td>\n",
              "      <td>-0.066419</td>\n",
              "      <td>-0.505775</td>\n",
              "    </tr>\n",
              "    <tr>\n",
              "      <th>9996</th>\n",
              "      <td>1.730838</td>\n",
              "      <td>-1.682806</td>\n",
              "      <td>-1.351013</td>\n",
              "      <td>-0.902587</td>\n",
              "      <td>0.912419</td>\n",
              "      <td>-0.373958</td>\n",
              "      <td>1.724464</td>\n",
              "      <td>-0.306379</td>\n",
              "      <td>-0.911583</td>\n",
              "      <td>0.646092</td>\n",
              "      <td>0.970243</td>\n",
              "      <td>0.027988</td>\n",
              "      <td>-0.505775</td>\n",
              "    </tr>\n",
              "    <tr>\n",
              "      <th>9997</th>\n",
              "      <td>1.731185</td>\n",
              "      <td>-1.479282</td>\n",
              "      <td>0.594899</td>\n",
              "      <td>-0.902587</td>\n",
              "      <td>-1.095988</td>\n",
              "      <td>-0.278604</td>\n",
              "      <td>0.687130</td>\n",
              "      <td>-1.225848</td>\n",
              "      <td>-0.911583</td>\n",
              "      <td>-1.547768</td>\n",
              "      <td>0.970243</td>\n",
              "      <td>-1.008643</td>\n",
              "      <td>1.977165</td>\n",
              "    </tr>\n",
              "    <tr>\n",
              "      <th>9998</th>\n",
              "      <td>1.731531</td>\n",
              "      <td>-0.119356</td>\n",
              "      <td>1.230092</td>\n",
              "      <td>1.505917</td>\n",
              "      <td>0.912419</td>\n",
              "      <td>0.293517</td>\n",
              "      <td>-0.695982</td>\n",
              "      <td>-0.022608</td>\n",
              "      <td>0.807737</td>\n",
              "      <td>0.646092</td>\n",
              "      <td>-1.030670</td>\n",
              "      <td>-0.125231</td>\n",
              "      <td>1.977165</td>\n",
              "    </tr>\n",
              "    <tr>\n",
              "      <th>9999</th>\n",
              "      <td>1.731878</td>\n",
              "      <td>-0.870559</td>\n",
              "      <td>1.431741</td>\n",
              "      <td>-0.902587</td>\n",
              "      <td>-1.095988</td>\n",
              "      <td>-1.041433</td>\n",
              "      <td>-0.350204</td>\n",
              "      <td>0.859965</td>\n",
              "      <td>-0.911583</td>\n",
              "      <td>0.646092</td>\n",
              "      <td>-1.030670</td>\n",
              "      <td>-1.076370</td>\n",
              "      <td>-0.505775</td>\n",
              "    </tr>\n",
              "  </tbody>\n",
              "</table>\n",
              "<p>10000 rows × 13 columns</p>\n",
              "</div>\n",
              "      <button class=\"colab-df-convert\" onclick=\"convertToInteractive('df-2807863d-e3fe-445b-bdc6-54ffc4df90ef')\"\n",
              "              title=\"Convert this dataframe to an interactive table.\"\n",
              "              style=\"display:none;\">\n",
              "        \n",
              "  <svg xmlns=\"http://www.w3.org/2000/svg\" height=\"24px\"viewBox=\"0 0 24 24\"\n",
              "       width=\"24px\">\n",
              "    <path d=\"M0 0h24v24H0V0z\" fill=\"none\"/>\n",
              "    <path d=\"M18.56 5.44l.94 2.06.94-2.06 2.06-.94-2.06-.94-.94-2.06-.94 2.06-2.06.94zm-11 1L8.5 8.5l.94-2.06 2.06-.94-2.06-.94L8.5 2.5l-.94 2.06-2.06.94zm10 10l.94 2.06.94-2.06 2.06-.94-2.06-.94-.94-2.06-.94 2.06-2.06.94z\"/><path d=\"M17.41 7.96l-1.37-1.37c-.4-.4-.92-.59-1.43-.59-.52 0-1.04.2-1.43.59L10.3 9.45l-7.72 7.72c-.78.78-.78 2.05 0 2.83L4 21.41c.39.39.9.59 1.41.59.51 0 1.02-.2 1.41-.59l7.78-7.78 2.81-2.81c.8-.78.8-2.07 0-2.86zM5.41 20L4 18.59l7.72-7.72 1.47 1.35L5.41 20z\"/>\n",
              "  </svg>\n",
              "      </button>\n",
              "      \n",
              "  <style>\n",
              "    .colab-df-container {\n",
              "      display:flex;\n",
              "      flex-wrap:wrap;\n",
              "      gap: 12px;\n",
              "    }\n",
              "\n",
              "    .colab-df-convert {\n",
              "      background-color: #E8F0FE;\n",
              "      border: none;\n",
              "      border-radius: 50%;\n",
              "      cursor: pointer;\n",
              "      display: none;\n",
              "      fill: #1967D2;\n",
              "      height: 32px;\n",
              "      padding: 0 0 0 0;\n",
              "      width: 32px;\n",
              "    }\n",
              "\n",
              "    .colab-df-convert:hover {\n",
              "      background-color: #E2EBFA;\n",
              "      box-shadow: 0px 1px 2px rgba(60, 64, 67, 0.3), 0px 1px 3px 1px rgba(60, 64, 67, 0.15);\n",
              "      fill: #174EA6;\n",
              "    }\n",
              "\n",
              "    [theme=dark] .colab-df-convert {\n",
              "      background-color: #3B4455;\n",
              "      fill: #D2E3FC;\n",
              "    }\n",
              "\n",
              "    [theme=dark] .colab-df-convert:hover {\n",
              "      background-color: #434B5C;\n",
              "      box-shadow: 0px 1px 3px 1px rgba(0, 0, 0, 0.15);\n",
              "      filter: drop-shadow(0px 1px 2px rgba(0, 0, 0, 0.3));\n",
              "      fill: #FFFFFF;\n",
              "    }\n",
              "  </style>\n",
              "\n",
              "      <script>\n",
              "        const buttonEl =\n",
              "          document.querySelector('#df-2807863d-e3fe-445b-bdc6-54ffc4df90ef button.colab-df-convert');\n",
              "        buttonEl.style.display =\n",
              "          google.colab.kernel.accessAllowed ? 'block' : 'none';\n",
              "\n",
              "        async function convertToInteractive(key) {\n",
              "          const element = document.querySelector('#df-2807863d-e3fe-445b-bdc6-54ffc4df90ef');\n",
              "          const dataTable =\n",
              "            await google.colab.kernel.invokeFunction('convertToInteractive',\n",
              "                                                     [key], {});\n",
              "          if (!dataTable) return;\n",
              "\n",
              "          const docLinkHtml = 'Like what you see? Visit the ' +\n",
              "            '<a target=\"_blank\" href=https://colab.research.google.com/notebooks/data_table.ipynb>data table notebook</a>'\n",
              "            + ' to learn more about interactive tables.';\n",
              "          element.innerHTML = '';\n",
              "          dataTable['output_type'] = 'display_data';\n",
              "          await google.colab.output.renderOutput(dataTable, element);\n",
              "          const docLink = document.createElement('div');\n",
              "          docLink.innerHTML = docLinkHtml;\n",
              "          element.appendChild(docLink);\n",
              "        }\n",
              "      </script>\n",
              "    </div>\n",
              "  </div>\n",
              "  "
            ]
          },
          "metadata": {},
          "execution_count": 103
        }
      ],
      "source": [
        "x = pd.DataFrame(X,columns = names )\n",
        "x"
      ]
    },
    {
      "cell_type": "markdown",
      "id": "4699c085",
      "metadata": {
        "id": "4699c085"
      },
      "source": [
        "## 10. Split the data into training and testing"
      ]
    },
    {
      "cell_type": "code",
      "execution_count": 104,
      "id": "5087fa8b",
      "metadata": {
        "id": "5087fa8b"
      },
      "outputs": [],
      "source": [
        "from sklearn.model_selection import train_test_split"
      ]
    },
    {
      "cell_type": "code",
      "execution_count": 105,
      "id": "8a2cab23",
      "metadata": {
        "id": "8a2cab23"
      },
      "outputs": [],
      "source": [
        "x_train,x_test,y_train,y_test=train_test_split(x,y,test_size=0.2,random_state=1901208)"
      ]
    },
    {
      "cell_type": "code",
      "execution_count": 106,
      "id": "803f45bf",
      "metadata": {
        "colab": {
          "base_uri": "https://localhost:8080/",
          "height": 206
        },
        "id": "803f45bf",
        "outputId": "b46b1952-19ae-4c63-eade-ffaa1e86db42"
      },
      "outputs": [
        {
          "output_type": "execute_result",
          "data": {
            "text/plain": [
              "      RowNumber  CustomerId  CreditScore  Geography    Gender       Age  \\\n",
              "6721   0.596345    0.343341     1.754379   1.505917  0.912419  3.630893   \n",
              "1771  -1.118385   -0.801870    -0.504088  -0.902587  0.912419 -0.183251   \n",
              "6913   0.662856    1.296206    -0.867056  -0.902587 -1.095988 -0.278604   \n",
              "9277   1.481769   -1.197073    -0.171367  -0.902587  0.912419 -0.946079   \n",
              "2303  -0.934095   -0.776596     0.645311   0.301665  0.912419  0.579578   \n",
              "\n",
              "        Tenure   Balance  NumOfProducts  HasCrCard  IsActiveMember  \\\n",
              "6721 -0.695982 -0.784827       0.807737  -1.547768        0.970243   \n",
              "1771 -1.387538  1.060635      -0.911583  -1.547768        0.970243   \n",
              "6913  0.687130  2.081020      -0.911583   0.646092        0.970243   \n",
              "9277  0.687130 -1.225848      -0.911583   0.646092        0.970243   \n",
              "2303 -1.733315  0.772628      -0.911583  -1.547768        0.970243   \n",
              "\n",
              "      EstimatedSalary    Exited  \n",
              "6721        -1.692712 -0.505775  \n",
              "1771        -0.198588 -0.505775  \n",
              "6913        -0.929570  1.977165  \n",
              "9277         0.524009 -0.505775  \n",
              "2303         1.514650 -0.505775  "
            ],
            "text/html": [
              "\n",
              "  <div id=\"df-238cfa10-f54d-4981-bdb8-3087e635e912\">\n",
              "    <div class=\"colab-df-container\">\n",
              "      <div>\n",
              "<style scoped>\n",
              "    .dataframe tbody tr th:only-of-type {\n",
              "        vertical-align: middle;\n",
              "    }\n",
              "\n",
              "    .dataframe tbody tr th {\n",
              "        vertical-align: top;\n",
              "    }\n",
              "\n",
              "    .dataframe thead th {\n",
              "        text-align: right;\n",
              "    }\n",
              "</style>\n",
              "<table border=\"1\" class=\"dataframe\">\n",
              "  <thead>\n",
              "    <tr style=\"text-align: right;\">\n",
              "      <th></th>\n",
              "      <th>RowNumber</th>\n",
              "      <th>CustomerId</th>\n",
              "      <th>CreditScore</th>\n",
              "      <th>Geography</th>\n",
              "      <th>Gender</th>\n",
              "      <th>Age</th>\n",
              "      <th>Tenure</th>\n",
              "      <th>Balance</th>\n",
              "      <th>NumOfProducts</th>\n",
              "      <th>HasCrCard</th>\n",
              "      <th>IsActiveMember</th>\n",
              "      <th>EstimatedSalary</th>\n",
              "      <th>Exited</th>\n",
              "    </tr>\n",
              "  </thead>\n",
              "  <tbody>\n",
              "    <tr>\n",
              "      <th>6721</th>\n",
              "      <td>0.596345</td>\n",
              "      <td>0.343341</td>\n",
              "      <td>1.754379</td>\n",
              "      <td>1.505917</td>\n",
              "      <td>0.912419</td>\n",
              "      <td>3.630893</td>\n",
              "      <td>-0.695982</td>\n",
              "      <td>-0.784827</td>\n",
              "      <td>0.807737</td>\n",
              "      <td>-1.547768</td>\n",
              "      <td>0.970243</td>\n",
              "      <td>-1.692712</td>\n",
              "      <td>-0.505775</td>\n",
              "    </tr>\n",
              "    <tr>\n",
              "      <th>1771</th>\n",
              "      <td>-1.118385</td>\n",
              "      <td>-0.801870</td>\n",
              "      <td>-0.504088</td>\n",
              "      <td>-0.902587</td>\n",
              "      <td>0.912419</td>\n",
              "      <td>-0.183251</td>\n",
              "      <td>-1.387538</td>\n",
              "      <td>1.060635</td>\n",
              "      <td>-0.911583</td>\n",
              "      <td>-1.547768</td>\n",
              "      <td>0.970243</td>\n",
              "      <td>-0.198588</td>\n",
              "      <td>-0.505775</td>\n",
              "    </tr>\n",
              "    <tr>\n",
              "      <th>6913</th>\n",
              "      <td>0.662856</td>\n",
              "      <td>1.296206</td>\n",
              "      <td>-0.867056</td>\n",
              "      <td>-0.902587</td>\n",
              "      <td>-1.095988</td>\n",
              "      <td>-0.278604</td>\n",
              "      <td>0.687130</td>\n",
              "      <td>2.081020</td>\n",
              "      <td>-0.911583</td>\n",
              "      <td>0.646092</td>\n",
              "      <td>0.970243</td>\n",
              "      <td>-0.929570</td>\n",
              "      <td>1.977165</td>\n",
              "    </tr>\n",
              "    <tr>\n",
              "      <th>9277</th>\n",
              "      <td>1.481769</td>\n",
              "      <td>-1.197073</td>\n",
              "      <td>-0.171367</td>\n",
              "      <td>-0.902587</td>\n",
              "      <td>0.912419</td>\n",
              "      <td>-0.946079</td>\n",
              "      <td>0.687130</td>\n",
              "      <td>-1.225848</td>\n",
              "      <td>-0.911583</td>\n",
              "      <td>0.646092</td>\n",
              "      <td>0.970243</td>\n",
              "      <td>0.524009</td>\n",
              "      <td>-0.505775</td>\n",
              "    </tr>\n",
              "    <tr>\n",
              "      <th>2303</th>\n",
              "      <td>-0.934095</td>\n",
              "      <td>-0.776596</td>\n",
              "      <td>0.645311</td>\n",
              "      <td>0.301665</td>\n",
              "      <td>0.912419</td>\n",
              "      <td>0.579578</td>\n",
              "      <td>-1.733315</td>\n",
              "      <td>0.772628</td>\n",
              "      <td>-0.911583</td>\n",
              "      <td>-1.547768</td>\n",
              "      <td>0.970243</td>\n",
              "      <td>1.514650</td>\n",
              "      <td>-0.505775</td>\n",
              "    </tr>\n",
              "  </tbody>\n",
              "</table>\n",
              "</div>\n",
              "      <button class=\"colab-df-convert\" onclick=\"convertToInteractive('df-238cfa10-f54d-4981-bdb8-3087e635e912')\"\n",
              "              title=\"Convert this dataframe to an interactive table.\"\n",
              "              style=\"display:none;\">\n",
              "        \n",
              "  <svg xmlns=\"http://www.w3.org/2000/svg\" height=\"24px\"viewBox=\"0 0 24 24\"\n",
              "       width=\"24px\">\n",
              "    <path d=\"M0 0h24v24H0V0z\" fill=\"none\"/>\n",
              "    <path d=\"M18.56 5.44l.94 2.06.94-2.06 2.06-.94-2.06-.94-.94-2.06-.94 2.06-2.06.94zm-11 1L8.5 8.5l.94-2.06 2.06-.94-2.06-.94L8.5 2.5l-.94 2.06-2.06.94zm10 10l.94 2.06.94-2.06 2.06-.94-2.06-.94-.94-2.06-.94 2.06-2.06.94z\"/><path d=\"M17.41 7.96l-1.37-1.37c-.4-.4-.92-.59-1.43-.59-.52 0-1.04.2-1.43.59L10.3 9.45l-7.72 7.72c-.78.78-.78 2.05 0 2.83L4 21.41c.39.39.9.59 1.41.59.51 0 1.02-.2 1.41-.59l7.78-7.78 2.81-2.81c.8-.78.8-2.07 0-2.86zM5.41 20L4 18.59l7.72-7.72 1.47 1.35L5.41 20z\"/>\n",
              "  </svg>\n",
              "      </button>\n",
              "      \n",
              "  <style>\n",
              "    .colab-df-container {\n",
              "      display:flex;\n",
              "      flex-wrap:wrap;\n",
              "      gap: 12px;\n",
              "    }\n",
              "\n",
              "    .colab-df-convert {\n",
              "      background-color: #E8F0FE;\n",
              "      border: none;\n",
              "      border-radius: 50%;\n",
              "      cursor: pointer;\n",
              "      display: none;\n",
              "      fill: #1967D2;\n",
              "      height: 32px;\n",
              "      padding: 0 0 0 0;\n",
              "      width: 32px;\n",
              "    }\n",
              "\n",
              "    .colab-df-convert:hover {\n",
              "      background-color: #E2EBFA;\n",
              "      box-shadow: 0px 1px 2px rgba(60, 64, 67, 0.3), 0px 1px 3px 1px rgba(60, 64, 67, 0.15);\n",
              "      fill: #174EA6;\n",
              "    }\n",
              "\n",
              "    [theme=dark] .colab-df-convert {\n",
              "      background-color: #3B4455;\n",
              "      fill: #D2E3FC;\n",
              "    }\n",
              "\n",
              "    [theme=dark] .colab-df-convert:hover {\n",
              "      background-color: #434B5C;\n",
              "      box-shadow: 0px 1px 3px 1px rgba(0, 0, 0, 0.15);\n",
              "      filter: drop-shadow(0px 1px 2px rgba(0, 0, 0, 0.3));\n",
              "      fill: #FFFFFF;\n",
              "    }\n",
              "  </style>\n",
              "\n",
              "      <script>\n",
              "        const buttonEl =\n",
              "          document.querySelector('#df-238cfa10-f54d-4981-bdb8-3087e635e912 button.colab-df-convert');\n",
              "        buttonEl.style.display =\n",
              "          google.colab.kernel.accessAllowed ? 'block' : 'none';\n",
              "\n",
              "        async function convertToInteractive(key) {\n",
              "          const element = document.querySelector('#df-238cfa10-f54d-4981-bdb8-3087e635e912');\n",
              "          const dataTable =\n",
              "            await google.colab.kernel.invokeFunction('convertToInteractive',\n",
              "                                                     [key], {});\n",
              "          if (!dataTable) return;\n",
              "\n",
              "          const docLinkHtml = 'Like what you see? Visit the ' +\n",
              "            '<a target=\"_blank\" href=https://colab.research.google.com/notebooks/data_table.ipynb>data table notebook</a>'\n",
              "            + ' to learn more about interactive tables.';\n",
              "          element.innerHTML = '';\n",
              "          dataTable['output_type'] = 'display_data';\n",
              "          await google.colab.output.renderOutput(dataTable, element);\n",
              "          const docLink = document.createElement('div');\n",
              "          docLink.innerHTML = docLinkHtml;\n",
              "          element.appendChild(docLink);\n",
              "        }\n",
              "      </script>\n",
              "    </div>\n",
              "  </div>\n",
              "  "
            ]
          },
          "metadata": {},
          "execution_count": 106
        }
      ],
      "source": [
        "x_train.head()"
      ]
    },
    {
      "cell_type": "code",
      "execution_count": 107,
      "id": "a9b79d96",
      "metadata": {
        "colab": {
          "base_uri": "https://localhost:8080/"
        },
        "id": "a9b79d96",
        "outputId": "b7ba58be-456b-4c5f-d58f-a3816954a742"
      },
      "outputs": [
        {
          "output_type": "execute_result",
          "data": {
            "text/plain": [
              "((8000, 13), (8000,), (2000, 13), (2000,))"
            ]
          },
          "metadata": {},
          "execution_count": 107
        }
      ],
      "source": [
        "x_train.shape,y_train.shape,x_test.shape,y_test.shape"
      ]
    }
  ],
  "metadata": {
    "kernelspec": {
      "display_name": "Python 3 (ipykernel)",
      "language": "python",
      "name": "python3"
    },
    "language_info": {
      "codemirror_mode": {
        "name": "ipython",
        "version": 3
      },
      "file_extension": ".py",
      "mimetype": "text/x-python",
      "name": "python",
      "nbconvert_exporter": "python",
      "pygments_lexer": "ipython3",
      "version": "3.9.7"
    },
    "colab": {
      "provenance": []
    }
  },
  "nbformat": 4,
  "nbformat_minor": 5
}